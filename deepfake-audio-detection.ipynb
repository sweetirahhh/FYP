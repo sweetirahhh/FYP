{
 "cells": [
  {
   "cell_type": "code",
   "execution_count": 1,
   "id": "765e2901",
   "metadata": {
    "_kg_hide-output": false,
    "execution": {
     "iopub.execute_input": "2025-09-29T17:01:34.921468Z",
     "iopub.status.busy": "2025-09-29T17:01:34.921199Z",
     "iopub.status.idle": "2025-09-29T17:03:06.852327Z",
     "shell.execute_reply": "2025-09-29T17:03:06.851673Z"
    },
    "papermill": {
     "duration": 91.93753,
     "end_time": "2025-09-29T17:03:06.853730",
     "exception": false,
     "start_time": "2025-09-29T17:01:34.916200",
     "status": "completed"
    },
    "tags": []
   },
   "outputs": [
    {
     "name": "stdout",
     "output_type": "stream",
     "text": [
      "Requirement already satisfied: torchaudio in /usr/local/lib/python3.11/dist-packages (2.6.0+cu124)\r\n",
      "Requirement already satisfied: librosa in /usr/local/lib/python3.11/dist-packages (0.11.0)\r\n",
      "Requirement already satisfied: torch==2.6.0 in /usr/local/lib/python3.11/dist-packages (from torchaudio) (2.6.0+cu124)\r\n",
      "Requirement already satisfied: filelock in /usr/local/lib/python3.11/dist-packages (from torch==2.6.0->torchaudio) (3.18.0)\r\n",
      "Requirement already satisfied: typing-extensions>=4.10.0 in /usr/local/lib/python3.11/dist-packages (from torch==2.6.0->torchaudio) (4.13.2)\r\n",
      "Requirement already satisfied: networkx in /usr/local/lib/python3.11/dist-packages (from torch==2.6.0->torchaudio) (3.4.2)\r\n",
      "Requirement already satisfied: jinja2 in /usr/local/lib/python3.11/dist-packages (from torch==2.6.0->torchaudio) (3.1.6)\r\n",
      "Requirement already satisfied: fsspec in /usr/local/lib/python3.11/dist-packages (from torch==2.6.0->torchaudio) (2025.3.2)\r\n",
      "Requirement already satisfied: nvidia-cuda-nvrtc-cu12==12.4.127 in /usr/local/lib/python3.11/dist-packages (from torch==2.6.0->torchaudio) (12.4.127)\r\n",
      "Requirement already satisfied: nvidia-cuda-runtime-cu12==12.4.127 in /usr/local/lib/python3.11/dist-packages (from torch==2.6.0->torchaudio) (12.4.127)\r\n",
      "Requirement already satisfied: nvidia-cuda-cupti-cu12==12.4.127 in /usr/local/lib/python3.11/dist-packages (from torch==2.6.0->torchaudio) (12.4.127)\r\n",
      "Collecting nvidia-cudnn-cu12==9.1.0.70 (from torch==2.6.0->torchaudio)\r\n",
      "  Downloading nvidia_cudnn_cu12-9.1.0.70-py3-none-manylinux2014_x86_64.whl.metadata (1.6 kB)\r\n",
      "Collecting nvidia-cublas-cu12==12.4.5.8 (from torch==2.6.0->torchaudio)\r\n",
      "  Downloading nvidia_cublas_cu12-12.4.5.8-py3-none-manylinux2014_x86_64.whl.metadata (1.5 kB)\r\n",
      "Collecting nvidia-cufft-cu12==11.2.1.3 (from torch==2.6.0->torchaudio)\r\n",
      "  Downloading nvidia_cufft_cu12-11.2.1.3-py3-none-manylinux2014_x86_64.whl.metadata (1.5 kB)\r\n",
      "Collecting nvidia-curand-cu12==10.3.5.147 (from torch==2.6.0->torchaudio)\r\n",
      "  Downloading nvidia_curand_cu12-10.3.5.147-py3-none-manylinux2014_x86_64.whl.metadata (1.5 kB)\r\n",
      "Collecting nvidia-cusolver-cu12==11.6.1.9 (from torch==2.6.0->torchaudio)\r\n",
      "  Downloading nvidia_cusolver_cu12-11.6.1.9-py3-none-manylinux2014_x86_64.whl.metadata (1.6 kB)\r\n",
      "Collecting nvidia-cusparse-cu12==12.3.1.170 (from torch==2.6.0->torchaudio)\r\n",
      "  Downloading nvidia_cusparse_cu12-12.3.1.170-py3-none-manylinux2014_x86_64.whl.metadata (1.6 kB)\r\n",
      "Requirement already satisfied: nvidia-cusparselt-cu12==0.6.2 in /usr/local/lib/python3.11/dist-packages (from torch==2.6.0->torchaudio) (0.6.2)\r\n",
      "Requirement already satisfied: nvidia-nccl-cu12==2.21.5 in /usr/local/lib/python3.11/dist-packages (from torch==2.6.0->torchaudio) (2.21.5)\r\n",
      "Requirement already satisfied: nvidia-nvtx-cu12==12.4.127 in /usr/local/lib/python3.11/dist-packages (from torch==2.6.0->torchaudio) (12.4.127)\r\n",
      "Collecting nvidia-nvjitlink-cu12==12.4.127 (from torch==2.6.0->torchaudio)\r\n",
      "  Downloading nvidia_nvjitlink_cu12-12.4.127-py3-none-manylinux2014_x86_64.whl.metadata (1.5 kB)\r\n",
      "Requirement already satisfied: triton==3.2.0 in /usr/local/lib/python3.11/dist-packages (from torch==2.6.0->torchaudio) (3.2.0)\r\n",
      "Requirement already satisfied: sympy==1.13.1 in /usr/local/lib/python3.11/dist-packages (from torch==2.6.0->torchaudio) (1.13.1)\r\n",
      "Requirement already satisfied: mpmath<1.4,>=1.1.0 in /usr/local/lib/python3.11/dist-packages (from sympy==1.13.1->torch==2.6.0->torchaudio) (1.3.0)\r\n",
      "Requirement already satisfied: audioread>=2.1.9 in /usr/local/lib/python3.11/dist-packages (from librosa) (3.0.1)\r\n",
      "Requirement already satisfied: numba>=0.51.0 in /usr/local/lib/python3.11/dist-packages (from librosa) (0.60.0)\r\n",
      "Requirement already satisfied: numpy>=1.22.3 in /usr/local/lib/python3.11/dist-packages (from librosa) (1.26.4)\r\n",
      "Requirement already satisfied: scipy>=1.6.0 in /usr/local/lib/python3.11/dist-packages (from librosa) (1.15.2)\r\n",
      "Requirement already satisfied: scikit-learn>=1.1.0 in /usr/local/lib/python3.11/dist-packages (from librosa) (1.2.2)\r\n",
      "Requirement already satisfied: joblib>=1.0 in /usr/local/lib/python3.11/dist-packages (from librosa) (1.5.0)\r\n",
      "Requirement already satisfied: decorator>=4.3.0 in /usr/local/lib/python3.11/dist-packages (from librosa) (4.4.2)\r\n",
      "Requirement already satisfied: soundfile>=0.12.1 in /usr/local/lib/python3.11/dist-packages (from librosa) (0.13.1)\r\n",
      "Requirement already satisfied: pooch>=1.1 in /usr/local/lib/python3.11/dist-packages (from librosa) (1.8.2)\r\n",
      "Requirement already satisfied: soxr>=0.3.2 in /usr/local/lib/python3.11/dist-packages (from librosa) (0.5.0.post1)\r\n",
      "Requirement already satisfied: lazy_loader>=0.1 in /usr/local/lib/python3.11/dist-packages (from librosa) (0.4)\r\n",
      "Requirement already satisfied: msgpack>=1.0 in /usr/local/lib/python3.11/dist-packages (from librosa) (1.1.0)\r\n",
      "Requirement already satisfied: packaging in /usr/local/lib/python3.11/dist-packages (from lazy_loader>=0.1->librosa) (25.0)\r\n",
      "Requirement already satisfied: llvmlite<0.44,>=0.43.0dev0 in /usr/local/lib/python3.11/dist-packages (from numba>=0.51.0->librosa) (0.43.0)\r\n",
      "Requirement already satisfied: mkl_fft in /usr/local/lib/python3.11/dist-packages (from numpy>=1.22.3->librosa) (1.3.8)\r\n",
      "Requirement already satisfied: mkl_random in /usr/local/lib/python3.11/dist-packages (from numpy>=1.22.3->librosa) (1.2.4)\r\n",
      "Requirement already satisfied: mkl_umath in /usr/local/lib/python3.11/dist-packages (from numpy>=1.22.3->librosa) (0.1.1)\r\n",
      "Requirement already satisfied: mkl in /usr/local/lib/python3.11/dist-packages (from numpy>=1.22.3->librosa) (2025.1.0)\r\n",
      "Requirement already satisfied: tbb4py in /usr/local/lib/python3.11/dist-packages (from numpy>=1.22.3->librosa) (2022.1.0)\r\n",
      "Requirement already satisfied: mkl-service in /usr/local/lib/python3.11/dist-packages (from numpy>=1.22.3->librosa) (2.4.1)\r\n",
      "Requirement already satisfied: platformdirs>=2.5.0 in /usr/local/lib/python3.11/dist-packages (from pooch>=1.1->librosa) (4.3.8)\r\n",
      "Requirement already satisfied: requests>=2.19.0 in /usr/local/lib/python3.11/dist-packages (from pooch>=1.1->librosa) (2.32.3)\r\n",
      "Requirement already satisfied: threadpoolctl>=2.0.0 in /usr/local/lib/python3.11/dist-packages (from scikit-learn>=1.1.0->librosa) (3.6.0)\r\n",
      "Requirement already satisfied: cffi>=1.0 in /usr/local/lib/python3.11/dist-packages (from soundfile>=0.12.1->librosa) (1.17.1)\r\n",
      "Requirement already satisfied: pycparser in /usr/local/lib/python3.11/dist-packages (from cffi>=1.0->soundfile>=0.12.1->librosa) (2.22)\r\n",
      "Requirement already satisfied: charset-normalizer<4,>=2 in /usr/local/lib/python3.11/dist-packages (from requests>=2.19.0->pooch>=1.1->librosa) (3.4.2)\r\n",
      "Requirement already satisfied: idna<4,>=2.5 in /usr/local/lib/python3.11/dist-packages (from requests>=2.19.0->pooch>=1.1->librosa) (3.10)\r\n",
      "Requirement already satisfied: urllib3<3,>=1.21.1 in /usr/local/lib/python3.11/dist-packages (from requests>=2.19.0->pooch>=1.1->librosa) (2.4.0)\r\n",
      "Requirement already satisfied: certifi>=2017.4.17 in /usr/local/lib/python3.11/dist-packages (from requests>=2.19.0->pooch>=1.1->librosa) (2025.4.26)\r\n",
      "Requirement already satisfied: MarkupSafe>=2.0 in /usr/local/lib/python3.11/dist-packages (from jinja2->torch==2.6.0->torchaudio) (3.0.2)\r\n",
      "Requirement already satisfied: intel-openmp<2026,>=2024 in /usr/local/lib/python3.11/dist-packages (from mkl->numpy>=1.22.3->librosa) (2024.2.0)\r\n",
      "Requirement already satisfied: tbb==2022.* in /usr/local/lib/python3.11/dist-packages (from mkl->numpy>=1.22.3->librosa) (2022.1.0)\r\n",
      "Requirement already satisfied: tcmlib==1.* in /usr/local/lib/python3.11/dist-packages (from tbb==2022.*->mkl->numpy>=1.22.3->librosa) (1.3.0)\r\n",
      "Requirement already satisfied: intel-cmplr-lib-rt in /usr/local/lib/python3.11/dist-packages (from mkl_umath->numpy>=1.22.3->librosa) (2024.2.0)\r\n",
      "Requirement already satisfied: intel-cmplr-lib-ur==2024.2.0 in /usr/local/lib/python3.11/dist-packages (from intel-openmp<2026,>=2024->mkl->numpy>=1.22.3->librosa) (2024.2.0)\r\n",
      "Downloading nvidia_cublas_cu12-12.4.5.8-py3-none-manylinux2014_x86_64.whl (363.4 MB)\r\n",
      "\u001b[2K   \u001b[90m━━━━━━━━━━━━━━━━━━━━━━━━━━━━━━━━━━━━━━━━\u001b[0m \u001b[32m363.4/363.4 MB\u001b[0m \u001b[31m4.7 MB/s\u001b[0m eta \u001b[36m0:00:00\u001b[0m\r\n",
      "\u001b[?25hDownloading nvidia_cudnn_cu12-9.1.0.70-py3-none-manylinux2014_x86_64.whl (664.8 MB)\r\n",
      "\u001b[2K   \u001b[90m━━━━━━━━━━━━━━━━━━━━━━━━━━━━━━━━━━━━━━━━\u001b[0m \u001b[32m664.8/664.8 MB\u001b[0m \u001b[31m2.2 MB/s\u001b[0m eta \u001b[36m0:00:00\u001b[0m\r\n",
      "\u001b[?25hDownloading nvidia_cufft_cu12-11.2.1.3-py3-none-manylinux2014_x86_64.whl (211.5 MB)\r\n",
      "\u001b[2K   \u001b[90m━━━━━━━━━━━━━━━━━━━━━━━━━━━━━━━━━━━━━━━━\u001b[0m \u001b[32m211.5/211.5 MB\u001b[0m \u001b[31m2.1 MB/s\u001b[0m eta \u001b[36m0:00:00\u001b[0m\r\n",
      "\u001b[?25hDownloading nvidia_curand_cu12-10.3.5.147-py3-none-manylinux2014_x86_64.whl (56.3 MB)\r\n",
      "\u001b[2K   \u001b[90m━━━━━━━━━━━━━━━━━━━━━━━━━━━━━━━━━━━━━━━━\u001b[0m \u001b[32m56.3/56.3 MB\u001b[0m \u001b[31m29.1 MB/s\u001b[0m eta \u001b[36m0:00:00\u001b[0m\r\n",
      "\u001b[?25hDownloading nvidia_cusolver_cu12-11.6.1.9-py3-none-manylinux2014_x86_64.whl (127.9 MB)\r\n",
      "\u001b[2K   \u001b[90m━━━━━━━━━━━━━━━━━━━━━━━━━━━━━━━━━━━━━━━━\u001b[0m \u001b[32m127.9/127.9 MB\u001b[0m \u001b[31m12.6 MB/s\u001b[0m eta \u001b[36m0:00:00\u001b[0m\r\n",
      "\u001b[?25hDownloading nvidia_cusparse_cu12-12.3.1.170-py3-none-manylinux2014_x86_64.whl (207.5 MB)\r\n",
      "\u001b[2K   \u001b[90m━━━━━━━━━━━━━━━━━━━━━━━━━━━━━━━━━━━━━━━━\u001b[0m \u001b[32m207.5/207.5 MB\u001b[0m \u001b[31m8.1 MB/s\u001b[0m eta \u001b[36m0:00:00\u001b[0m\r\n",
      "\u001b[?25hDownloading nvidia_nvjitlink_cu12-12.4.127-py3-none-manylinux2014_x86_64.whl (21.1 MB)\r\n",
      "\u001b[2K   \u001b[90m━━━━━━━━━━━━━━━━━━━━━━━━━━━━━━━━━━━━━━━━\u001b[0m \u001b[32m21.1/21.1 MB\u001b[0m \u001b[31m70.7 MB/s\u001b[0m eta \u001b[36m0:00:00\u001b[0m\r\n",
      "\u001b[?25hInstalling collected packages: nvidia-nvjitlink-cu12, nvidia-curand-cu12, nvidia-cufft-cu12, nvidia-cublas-cu12, nvidia-cusparse-cu12, nvidia-cudnn-cu12, nvidia-cusolver-cu12\r\n",
      "  Attempting uninstall: nvidia-nvjitlink-cu12\r\n",
      "    Found existing installation: nvidia-nvjitlink-cu12 12.9.41\r\n",
      "    Uninstalling nvidia-nvjitlink-cu12-12.9.41:\r\n",
      "      Successfully uninstalled nvidia-nvjitlink-cu12-12.9.41\r\n",
      "  Attempting uninstall: nvidia-curand-cu12\r\n",
      "    Found existing installation: nvidia-curand-cu12 10.3.10.19\r\n",
      "    Uninstalling nvidia-curand-cu12-10.3.10.19:\r\n",
      "      Successfully uninstalled nvidia-curand-cu12-10.3.10.19\r\n",
      "  Attempting uninstall: nvidia-cufft-cu12\r\n",
      "    Found existing installation: nvidia-cufft-cu12 11.4.0.6\r\n",
      "    Uninstalling nvidia-cufft-cu12-11.4.0.6:\r\n",
      "      Successfully uninstalled nvidia-cufft-cu12-11.4.0.6\r\n",
      "  Attempting uninstall: nvidia-cublas-cu12\r\n",
      "    Found existing installation: nvidia-cublas-cu12 12.9.0.13\r\n",
      "    Uninstalling nvidia-cublas-cu12-12.9.0.13:\r\n",
      "      Successfully uninstalled nvidia-cublas-cu12-12.9.0.13\r\n",
      "  Attempting uninstall: nvidia-cusparse-cu12\r\n",
      "    Found existing installation: nvidia-cusparse-cu12 12.5.9.5\r\n",
      "    Uninstalling nvidia-cusparse-cu12-12.5.9.5:\r\n",
      "      Successfully uninstalled nvidia-cusparse-cu12-12.5.9.5\r\n",
      "  Attempting uninstall: nvidia-cudnn-cu12\r\n",
      "    Found existing installation: nvidia-cudnn-cu12 9.3.0.75\r\n",
      "    Uninstalling nvidia-cudnn-cu12-9.3.0.75:\r\n",
      "      Successfully uninstalled nvidia-cudnn-cu12-9.3.0.75\r\n",
      "  Attempting uninstall: nvidia-cusolver-cu12\r\n",
      "    Found existing installation: nvidia-cusolver-cu12 11.7.4.40\r\n",
      "    Uninstalling nvidia-cusolver-cu12-11.7.4.40:\r\n",
      "      Successfully uninstalled nvidia-cusolver-cu12-11.7.4.40\r\n",
      "Successfully installed nvidia-cublas-cu12-12.4.5.8 nvidia-cudnn-cu12-9.1.0.70 nvidia-cufft-cu12-11.2.1.3 nvidia-curand-cu12-10.3.5.147 nvidia-cusolver-cu12-11.6.1.9 nvidia-cusparse-cu12-12.3.1.170 nvidia-nvjitlink-cu12-12.4.127\r\n",
      "Requirement already satisfied: psutil in /usr/local/lib/python3.11/dist-packages (7.0.0)\r\n",
      "Requirement already satisfied: pynvml in /usr/local/lib/python3.11/dist-packages (12.0.0)\r\n",
      "Collecting thop\r\n",
      "  Downloading thop-0.1.1.post2209072238-py3-none-any.whl.metadata (2.7 kB)\r\n",
      "Requirement already satisfied: nvidia-ml-py<13.0.0a0,>=12.0.0 in /usr/local/lib/python3.11/dist-packages (from pynvml) (12.575.51)\r\n",
      "Requirement already satisfied: torch in /usr/local/lib/python3.11/dist-packages (from thop) (2.6.0+cu124)\r\n",
      "Requirement already satisfied: filelock in /usr/local/lib/python3.11/dist-packages (from torch->thop) (3.18.0)\r\n",
      "Requirement already satisfied: typing-extensions>=4.10.0 in /usr/local/lib/python3.11/dist-packages (from torch->thop) (4.13.2)\r\n",
      "Requirement already satisfied: networkx in /usr/local/lib/python3.11/dist-packages (from torch->thop) (3.4.2)\r\n",
      "Requirement already satisfied: jinja2 in /usr/local/lib/python3.11/dist-packages (from torch->thop) (3.1.6)\r\n",
      "Requirement already satisfied: fsspec in /usr/local/lib/python3.11/dist-packages (from torch->thop) (2025.3.2)\r\n",
      "Requirement already satisfied: nvidia-cuda-nvrtc-cu12==12.4.127 in /usr/local/lib/python3.11/dist-packages (from torch->thop) (12.4.127)\r\n",
      "Requirement already satisfied: nvidia-cuda-runtime-cu12==12.4.127 in /usr/local/lib/python3.11/dist-packages (from torch->thop) (12.4.127)\r\n",
      "Requirement already satisfied: nvidia-cuda-cupti-cu12==12.4.127 in /usr/local/lib/python3.11/dist-packages (from torch->thop) (12.4.127)\r\n",
      "Requirement already satisfied: nvidia-cudnn-cu12==9.1.0.70 in /usr/local/lib/python3.11/dist-packages (from torch->thop) (9.1.0.70)\r\n",
      "Requirement already satisfied: nvidia-cublas-cu12==12.4.5.8 in /usr/local/lib/python3.11/dist-packages (from torch->thop) (12.4.5.8)\r\n",
      "Requirement already satisfied: nvidia-cufft-cu12==11.2.1.3 in /usr/local/lib/python3.11/dist-packages (from torch->thop) (11.2.1.3)\r\n",
      "Requirement already satisfied: nvidia-curand-cu12==10.3.5.147 in /usr/local/lib/python3.11/dist-packages (from torch->thop) (10.3.5.147)\r\n",
      "Requirement already satisfied: nvidia-cusolver-cu12==11.6.1.9 in /usr/local/lib/python3.11/dist-packages (from torch->thop) (11.6.1.9)\r\n",
      "Requirement already satisfied: nvidia-cusparse-cu12==12.3.1.170 in /usr/local/lib/python3.11/dist-packages (from torch->thop) (12.3.1.170)\r\n",
      "Requirement already satisfied: nvidia-cusparselt-cu12==0.6.2 in /usr/local/lib/python3.11/dist-packages (from torch->thop) (0.6.2)\r\n",
      "Requirement already satisfied: nvidia-nccl-cu12==2.21.5 in /usr/local/lib/python3.11/dist-packages (from torch->thop) (2.21.5)\r\n",
      "Requirement already satisfied: nvidia-nvtx-cu12==12.4.127 in /usr/local/lib/python3.11/dist-packages (from torch->thop) (12.4.127)\r\n",
      "Requirement already satisfied: nvidia-nvjitlink-cu12==12.4.127 in /usr/local/lib/python3.11/dist-packages (from torch->thop) (12.4.127)\r\n",
      "Requirement already satisfied: triton==3.2.0 in /usr/local/lib/python3.11/dist-packages (from torch->thop) (3.2.0)\r\n",
      "Requirement already satisfied: sympy==1.13.1 in /usr/local/lib/python3.11/dist-packages (from torch->thop) (1.13.1)\r\n",
      "Requirement already satisfied: mpmath<1.4,>=1.1.0 in /usr/local/lib/python3.11/dist-packages (from sympy==1.13.1->torch->thop) (1.3.0)\r\n",
      "Requirement already satisfied: MarkupSafe>=2.0 in /usr/local/lib/python3.11/dist-packages (from jinja2->torch->thop) (3.0.2)\r\n",
      "Downloading thop-0.1.1.post2209072238-py3-none-any.whl (15 kB)\r\n",
      "Installing collected packages: thop\r\n",
      "Successfully installed thop-0.1.1.post2209072238\r\n"
     ]
    }
   ],
   "source": [
    "!pip install torchaudio librosa\n",
    "!pip install psutil pynvml thop\n",
    "\n",
    "import os\n",
    "import librosa\n",
    "import numpy as np\n",
    "import torch\n",
    "import torchaudio\n",
    "from torch import nn\n",
    "from torch.utils.data import Dataset, DataLoader\n",
    "import torchvision.transforms as transforms\n",
    "from sklearn.model_selection import train_test_split\n",
    "from glob import glob\n",
    "from tqdm import tqdm\n"
   ]
  },
  {
   "cell_type": "code",
   "execution_count": 2,
   "id": "af09c4d0",
   "metadata": {
    "execution": {
     "iopub.execute_input": "2025-09-29T17:03:06.908018Z",
     "iopub.status.busy": "2025-09-29T17:03:06.907399Z",
     "iopub.status.idle": "2025-09-29T17:03:06.932728Z",
     "shell.execute_reply": "2025-09-29T17:03:06.931982Z"
    },
    "papermill": {
     "duration": 0.051358,
     "end_time": "2025-09-29T17:03:06.933963",
     "exception": false,
     "start_time": "2025-09-29T17:03:06.882605",
     "status": "completed"
    },
    "tags": []
   },
   "outputs": [],
   "source": [
    "# ADD\n",
    "import threading, atexit\n",
    "from collections import defaultdict\n",
    "import numpy as np\n",
    "\n",
    "# Optional deps (graceful fallback if missing)\n",
    "try:\n",
    "    import psutil\n",
    "except Exception:\n",
    "    psutil = None\n",
    "\n",
    "try:\n",
    "    import pynvml\n",
    "    pynvml.nvmlInit()\n",
    "    _HAS_NVML = True\n",
    "    _NVML_HANDLE = pynvml.nvmlDeviceGetHandleByIndex(0)\n",
    "except Exception:\n",
    "    _HAS_NVML = False\n",
    "    _NVML_HANDLE = None\n"
   ]
  },
  {
   "cell_type": "code",
   "execution_count": 3,
   "id": "31fe0516",
   "metadata": {
    "execution": {
     "iopub.execute_input": "2025-09-29T17:03:06.983986Z",
     "iopub.status.busy": "2025-09-29T17:03:06.983384Z",
     "iopub.status.idle": "2025-09-29T17:03:06.994502Z",
     "shell.execute_reply": "2025-09-29T17:03:06.993804Z"
    },
    "papermill": {
     "duration": 0.037212,
     "end_time": "2025-09-29T17:03:06.995532",
     "exception": false,
     "start_time": "2025-09-29T17:03:06.958320",
     "status": "completed"
    },
    "tags": []
   },
   "outputs": [
    {
     "data": {
      "text/plain": [
       "<function __main__._shutdown_nvml()>"
      ]
     },
     "execution_count": 3,
     "metadata": {},
     "output_type": "execute_result"
    }
   ],
   "source": [
    "# ADD\n",
    "class UtilizationSampler:\n",
    "    \"\"\"\n",
    "    Polls CPU and (if available) GPU utilization at a fixed interval while code runs.\n",
    "    Keeps simple time series in self.data: 't','cpu_util','cpu_mem','gpu_util','gpu_mem'\n",
    "    \"\"\"\n",
    "    def __init__(self, interval_sec=0.1):\n",
    "        self.interval = interval_sec\n",
    "        self._stop = threading.Event()\n",
    "        self._thread = None\n",
    "        self.data = defaultdict(list)\n",
    "\n",
    "    def _sample_once(self, t0):\n",
    "        t = time.perf_counter() - t0\n",
    "        self.data['t'].append(t)\n",
    "\n",
    "        # CPU util/mem (if psutil available)\n",
    "        if psutil is not None:\n",
    "            self.data['cpu_util'].append(psutil.cpu_percent(interval=None))\n",
    "            mem = psutil.virtual_memory()\n",
    "            self.data['cpu_mem'].append(mem.percent)\n",
    "        else:\n",
    "            self.data['cpu_util'].append(None)\n",
    "            self.data['cpu_mem'].append(None)\n",
    "\n",
    "        # GPU util/mem (if NVML available)\n",
    "        if _HAS_NVML:\n",
    "            util = pynvml.nvmlDeviceGetUtilizationRates(_NVML_HANDLE)\n",
    "            meminfo = pynvml.nvmlDeviceGetMemoryInfo(_NVML_HANDLE)\n",
    "            self.data['gpu_util'].append(util.gpu)  # percent\n",
    "            self.data['gpu_mem'].append(100.0 * float(meminfo.used) / float(meminfo.total))  # percent\n",
    "        else:\n",
    "            self.data['gpu_util'].append(None)\n",
    "            self.data['gpu_mem'].append(None)\n",
    "\n",
    "    def _run(self):\n",
    "        t0 = time.perf_counter()\n",
    "        if psutil is not None:\n",
    "            psutil.cpu_percent(interval=None)  # prime\n",
    "        while not self._stop.is_set():\n",
    "            self._sample_once(t0)\n",
    "            time.sleep(self.interval)\n",
    "\n",
    "    def start(self):\n",
    "        self._stop.clear()\n",
    "        self._thread = threading.Thread(target=self._run, daemon=True)\n",
    "        self._thread.start()\n",
    "        return self\n",
    "\n",
    "    def stop(self):\n",
    "        if self._thread is not None:\n",
    "            self._stop.set()\n",
    "            self._thread.join()\n",
    "            self._thread = None\n",
    "\n",
    "def _shutdown_nvml():\n",
    "    if _HAS_NVML:\n",
    "        try: pynvml.nvmlShutdown()\n",
    "        except Exception: pass\n",
    "atexit.register(_shutdown_nvml)\n"
   ]
  },
  {
   "cell_type": "code",
   "execution_count": 4,
   "id": "e286d3ab",
   "metadata": {
    "_cell_guid": "b1076dfc-b9ad-4769-8c92-a6c4dae69d19",
    "_uuid": "8f2839f25d086af736a60e9eeb907d3b93b6e0e5",
    "execution": {
     "iopub.execute_input": "2025-09-29T17:03:07.045071Z",
     "iopub.status.busy": "2025-09-29T17:03:07.044483Z",
     "iopub.status.idle": "2025-09-29T17:03:07.049989Z",
     "shell.execute_reply": "2025-09-29T17:03:07.049284Z"
    },
    "papermill": {
     "duration": 0.031442,
     "end_time": "2025-09-29T17:03:07.051156",
     "exception": false,
     "start_time": "2025-09-29T17:03:07.019714",
     "status": "completed"
    },
    "tags": []
   },
   "outputs": [],
   "source": [
    "class FusionAudioDataset(Dataset):\n",
    "    def __init__(self, real_files, fake_files):\n",
    "        self.samples = [(f, 0) for f in real_files] + [(f, 1) for f in fake_files]\n",
    "\n",
    "    def __len__(self):\n",
    "        return len(self.samples)\n",
    "\n",
    "    def __getitem__(self, idx):\n",
    "        path, label = self.samples[idx]\n",
    "        # Raw waveform\n",
    "        waveform, sr = torchaudio.load(path)\n",
    "        waveform = waveform[:, :16000]  # Truncate or pad to 1 sec\n",
    "        if waveform.shape[1] < 16000:\n",
    "            pad = 16000 - waveform.shape[1]\n",
    "            waveform = torch.nn.functional.pad(waveform, (0, pad))\n",
    "\n",
    "        # Mel spectrogram\n",
    "        mel = audio_to_mel(path)\n",
    "        mel = torch.tensor(mel).unsqueeze(0)\n",
    "\n",
    "        return waveform.float(), mel.float(), torch.tensor(label).long()"
   ]
  },
  {
   "cell_type": "code",
   "execution_count": 5,
   "id": "07e6d4f6",
   "metadata": {
    "execution": {
     "iopub.execute_input": "2025-09-29T17:03:07.101006Z",
     "iopub.status.busy": "2025-09-29T17:03:07.100406Z",
     "iopub.status.idle": "2025-09-29T17:03:07.107718Z",
     "shell.execute_reply": "2025-09-29T17:03:07.107180Z"
    },
    "papermill": {
     "duration": 0.033326,
     "end_time": "2025-09-29T17:03:07.108776",
     "exception": false,
     "start_time": "2025-09-29T17:03:07.075450",
     "status": "completed"
    },
    "tags": []
   },
   "outputs": [],
   "source": [
    "import os\n",
    "import torch\n",
    "from torch.utils.data import Dataset, DataLoader\n",
    "import torchaudio\n",
    "import librosa\n",
    "import numpy as np\n",
    "\n",
    "class DeepfakeAudioDataset(Dataset):\n",
    "    def __init__(self, root_dir, sample_rate=16000, duration=1.0):\n",
    "        self.root_dir = root_dir\n",
    "        self.sample_rate = sample_rate\n",
    "        self.duration = duration\n",
    "        self.audio_paths = []\n",
    "        self.labels = []\n",
    "\n",
    "        # change the label based on the file name.\n",
    "        for label_str, label in [('real', 0), ('fake', 1)]:\n",
    "            folder = os.path.join(root_dir, label_str)\n",
    "            for file in os.listdir(folder):\n",
    "                #follow what the file format\n",
    "                if file.endswith(\".wav\"):\n",
    "                    self.audio_paths.append(os.path.join(folder, file))\n",
    "                    self.labels.append(label)\n",
    "\n",
    "    def __len__(self):\n",
    "        return len(self.audio_paths)\n",
    "\n",
    "    def __getitem__(self, idx):\n",
    "        path = self.audio_paths[idx]\n",
    "        label = self.labels[idx]\n",
    "\n",
    "        waveform, sr = torchaudio.load(path)\n",
    "        waveform = waveform.mean(dim=0)  # mono\n",
    "        waveform = torchaudio.functional.resample(waveform, sr, self.sample_rate)\n",
    "\n",
    "        # Pad/crop to fixed duration\n",
    "        max_len = int(self.sample_rate * self.duration)\n",
    "        if waveform.shape[0] < max_len:\n",
    "            waveform = torch.nn.functional.pad(waveform, (0, max_len - waveform.shape[0]))\n",
    "        else:\n",
    "            waveform = waveform[:max_len]\n",
    "\n",
    "        # Mel spectrogram\n",
    "        mel = librosa.feature.melspectrogram(y=waveform.numpy(), sr=self.sample_rate, n_mels=128)\n",
    "        mel_db = librosa.power_to_db(mel, ref=np.max)\n",
    "        mel_tensor = torch.tensor(mel_db).unsqueeze(0).float()  # (1, 128, T)\n",
    "\n",
    "        return waveform.unsqueeze(0).float(), mel_tensor, torch.tensor(label).long()\n"
   ]
  },
  {
   "cell_type": "code",
   "execution_count": 6,
   "id": "64fb60b7",
   "metadata": {
    "execution": {
     "iopub.execute_input": "2025-09-29T17:03:07.159651Z",
     "iopub.status.busy": "2025-09-29T17:03:07.159088Z",
     "iopub.status.idle": "2025-09-29T17:03:07.163904Z",
     "shell.execute_reply": "2025-09-29T17:03:07.163362Z"
    },
    "papermill": {
     "duration": 0.031386,
     "end_time": "2025-09-29T17:03:07.165112",
     "exception": false,
     "start_time": "2025-09-29T17:03:07.133726",
     "status": "completed"
    },
    "tags": []
   },
   "outputs": [],
   "source": [
    "class SpecRNet(nn.Module):\n",
    "    def __init__(self):\n",
    "        super().__init__()\n",
    "        self.features = nn.Sequential(\n",
    "            nn.Conv2d(1, 32, kernel_size=3, padding=1),\n",
    "            nn.ReLU(),\n",
    "            nn.MaxPool2d(2),\n",
    "            nn.Conv2d(32, 64, kernel_size=3, padding=1),\n",
    "            nn.ReLU(),\n",
    "            nn.AdaptiveAvgPool2d((32, 32))\n",
    "        )\n",
    "        self.fc = nn.Linear(64 * 32 * 32, 128)\n",
    "\n",
    "    def forward(self, x):\n",
    "        x = self.features(x)\n",
    "        x = x.view(x.size(0), -1)\n",
    "        return self.fc(x)\n"
   ]
  },
  {
   "cell_type": "code",
   "execution_count": 7,
   "id": "6ed0e49f",
   "metadata": {
    "execution": {
     "iopub.execute_input": "2025-09-29T17:03:07.265690Z",
     "iopub.status.busy": "2025-09-29T17:03:07.265022Z",
     "iopub.status.idle": "2025-09-29T17:03:07.270290Z",
     "shell.execute_reply": "2025-09-29T17:03:07.269604Z"
    },
    "papermill": {
     "duration": 0.081366,
     "end_time": "2025-09-29T17:03:07.271420",
     "exception": false,
     "start_time": "2025-09-29T17:03:07.190054",
     "status": "completed"
    },
    "tags": []
   },
   "outputs": [],
   "source": [
    "class RawGATST(nn.Module):\n",
    "    def __init__(self):\n",
    "        super(RawGATST, self).__init__()\n",
    "        self.conv = nn.Sequential(\n",
    "            nn.Conv1d(1, 64, kernel_size=5, stride=2, padding=2),\n",
    "            nn.BatchNorm1d(64), nn.ReLU(),\n",
    "            nn.Conv1d(64, 128, kernel_size=5, stride=2, padding=2),\n",
    "            nn.BatchNorm1d(128), nn.ReLU()\n",
    "        )\n",
    "        self.pool = nn.AdaptiveAvgPool1d(1)\n",
    "        self.fc = nn.Linear(128, 128)\n",
    "\n",
    "    def forward(self, x):\n",
    "        x = self.conv(x)\n",
    "        x = self.pool(x).squeeze(-1)\n",
    "        x = self.fc(x)\n",
    "        return x"
   ]
  },
  {
   "cell_type": "code",
   "execution_count": 8,
   "id": "d15661e7",
   "metadata": {
    "execution": {
     "iopub.execute_input": "2025-09-29T17:03:07.321229Z",
     "iopub.status.busy": "2025-09-29T17:03:07.321015Z",
     "iopub.status.idle": "2025-09-29T17:03:07.325943Z",
     "shell.execute_reply": "2025-09-29T17:03:07.325260Z"
    },
    "papermill": {
     "duration": 0.030962,
     "end_time": "2025-09-29T17:03:07.327065",
     "exception": false,
     "start_time": "2025-09-29T17:03:07.296103",
     "status": "completed"
    },
    "tags": []
   },
   "outputs": [],
   "source": [
    "class FusionNet(nn.Module):\n",
    "    def __init__(self):\n",
    "        super(FusionNet, self).__init__()\n",
    "        self.spec_model = SpecRNet()\n",
    "        self.raw_model = RawGATST()\n",
    "        self.classifier = nn.Sequential(\n",
    "            nn.Linear(128 + 128, 128),\n",
    "            nn.ReLU(),\n",
    "            nn.Dropout(0.3),\n",
    "            nn.Linear(128, 2)\n",
    "        )\n",
    "\n",
    "    def forward(self, raw_wave, mel_spec):\n",
    "        raw_feat = self.raw_model(raw_wave)\n",
    "        spec_feat = self.spec_model(mel_spec)\n",
    "        fused = torch.cat((raw_feat, spec_feat), dim=1)\n",
    "        return self.classifier(fused)"
   ]
  },
  {
   "cell_type": "code",
   "execution_count": 9,
   "id": "fb585e35",
   "metadata": {
    "execution": {
     "iopub.execute_input": "2025-09-29T17:03:07.377027Z",
     "iopub.status.busy": "2025-09-29T17:03:07.376785Z",
     "iopub.status.idle": "2025-09-29T17:03:07.735013Z",
     "shell.execute_reply": "2025-09-29T17:03:07.733976Z"
    },
    "papermill": {
     "duration": 0.385101,
     "end_time": "2025-09-29T17:03:07.736908",
     "exception": false,
     "start_time": "2025-09-29T17:03:07.351807",
     "status": "completed"
    },
    "tags": []
   },
   "outputs": [],
   "source": [
    "from torch.utils.data import Subset\n",
    "from sklearn.model_selection import train_test_split\n",
    "\n",
    "device = torch.device(\"cuda\" if torch.cuda.is_available() else \"cpu\")\n",
    "\n",
    "# Get dataset\n",
    "dataset = DeepfakeAudioDataset(\"/kaggle/input/in-the-wild-audio-deepfake/release_in_the_wild\")\n",
    "\n",
    "# Create index list\n",
    "indices = list(range(len(dataset)))\n",
    "\n",
    "# Split into train + temp (val+test)\n",
    "train_idx, temp_idx = train_test_split(indices, test_size=0.4, random_state=42)  # 60% train, 40% temp\n",
    "\n",
    "# Split temp into validation + test (each 20%)\n",
    "val_idx, test_idx = train_test_split(temp_idx, test_size=0.5, random_state=42)  # 20% val, 20% test\n",
    "\n",
    "# Wrap subsets\n",
    "train_set = Subset(dataset, train_idx)\n",
    "val_set   = Subset(dataset, val_idx)\n",
    "test_set  = Subset(dataset, test_idx)\n",
    "\n",
    "# DataLoaders\n",
    "train_loader = DataLoader(train_set, batch_size=8, shuffle=True, num_workers=2)\n",
    "val_loader   = DataLoader(val_set, batch_size=8, shuffle=True, num_workers=2)\n",
    "test_loader  = DataLoader(test_set, batch_size=8, shuffle=True, num_workers=2)\n"
   ]
  },
  {
   "cell_type": "code",
   "execution_count": 10,
   "id": "f8279bdb",
   "metadata": {
    "execution": {
     "iopub.execute_input": "2025-09-29T17:03:07.800834Z",
     "iopub.status.busy": "2025-09-29T17:03:07.800327Z",
     "iopub.status.idle": "2025-09-29T17:40:33.733111Z",
     "shell.execute_reply": "2025-09-29T17:40:33.732179Z"
    },
    "papermill": {
     "duration": 2245.987551,
     "end_time": "2025-09-29T17:40:33.759452",
     "exception": false,
     "start_time": "2025-09-29T17:03:07.771901",
     "status": "completed"
    },
    "tags": []
   },
   "outputs": [
    {
     "name": "stdout",
     "output_type": "stream",
     "text": [
      "Epoch 1, Loss: 425.8868, Train Acc: 0.9475\n",
      "Epoch 2, Loss: 119.2093, Train Acc: 0.9849\n",
      "Epoch 3, Loss: 91.5020, Train Acc: 0.9873\n",
      "Epoch 4, Loss: 71.4245, Train Acc: 0.9905\n",
      "Epoch 5, Loss: 63.8209, Train Acc: 0.9916\n",
      "Epoch 6, Loss: 48.2641, Train Acc: 0.9937\n",
      "Epoch 7, Loss: 41.6692, Train Acc: 0.9947\n",
      "Epoch 8, Loss: 30.9797, Train Acc: 0.9960\n",
      "Epoch 9, Loss: 26.2510, Train Acc: 0.9960\n",
      "Epoch 10, Loss: 27.6611, Train Acc: 0.9964\n",
      "Epoch 11, Loss: 22.8425, Train Acc: 0.9964\n",
      "Epoch 12, Loss: 20.9073, Train Acc: 0.9974\n",
      "Epoch 13, Loss: 24.3475, Train Acc: 0.9971\n",
      "Epoch 14, Loss: 34.5542, Train Acc: 0.9960\n",
      "Epoch 15, Loss: 15.6768, Train Acc: 0.9981\n",
      "Epoch 16, Loss: 17.4244, Train Acc: 0.9981\n",
      "Epoch 17, Loss: 14.5927, Train Acc: 0.9982\n",
      "Epoch 18, Loss: 20.7605, Train Acc: 0.9980\n",
      "Epoch 19, Loss: 15.8349, Train Acc: 0.9985\n",
      "Epoch 20, Loss: 12.8842, Train Acc: 0.9982\n"
     ]
    }
   ],
   "source": [
    "model = FusionNet().to(device)\n",
    "optimizer = torch.optim.Adam(model.parameters(), lr=1e-4)\n",
    "loss_fn = nn.CrossEntropyLoss()\n",
    "\n",
    "# Training loop\n",
    "for epoch in range(20):\n",
    "    model.train()\n",
    "    total_loss = 0\n",
    "    correct = 0\n",
    "    for raw, mel, labels in train_loader:\n",
    "        raw, mel, labels = raw.to(device), mel.to(device), labels.to(device)\n",
    "        optimizer.zero_grad()\n",
    "        output = model(raw, mel)\n",
    "        loss = loss_fn(output, labels)\n",
    "        loss.backward()\n",
    "        optimizer.step()\n",
    "        total_loss += loss.item()\n",
    "        correct += (output.argmax(1) == labels).sum().item()\n",
    "    acc = correct / len(train_loader.dataset)\n",
    "    print(f\"Epoch {epoch+1}, Loss: {total_loss:.4f}, Train Acc: {acc:.4f}\")\n"
   ]
  },
  {
   "cell_type": "code",
   "execution_count": 11,
   "id": "aaf271d1",
   "metadata": {
    "execution": {
     "iopub.execute_input": "2025-09-29T17:40:33.811760Z",
     "iopub.status.busy": "2025-09-29T17:40:33.811016Z",
     "iopub.status.idle": "2025-09-29T17:40:33.891985Z",
     "shell.execute_reply": "2025-09-29T17:40:33.891135Z"
    },
    "papermill": {
     "duration": 0.10843,
     "end_time": "2025-09-29T17:40:33.893393",
     "exception": false,
     "start_time": "2025-09-29T17:40:33.784963",
     "status": "completed"
    },
    "tags": []
   },
   "outputs": [],
   "source": [
    "torch.save(model.state_dict(), \"specRNet_rawGATST_fusion_adam_fulldataset_deep-voice-recog.pth\")"
   ]
  },
  {
   "cell_type": "markdown",
   "id": "6b7c8a8d",
   "metadata": {
    "papermill": {
     "duration": 0.025006,
     "end_time": "2025-09-29T17:40:33.944282",
     "exception": false,
     "start_time": "2025-09-29T17:40:33.919276",
     "status": "completed"
    },
    "tags": []
   },
   "source": [
    "#save checkpoint model state \n",
    "\n",
    "#tukar nama model everytime tukar nama model or anything.. baca paper"
   ]
  },
  {
   "cell_type": "code",
   "execution_count": 12,
   "id": "dbe0eb45",
   "metadata": {
    "execution": {
     "iopub.execute_input": "2025-09-29T17:40:33.996009Z",
     "iopub.status.busy": "2025-09-29T17:40:33.995507Z",
     "iopub.status.idle": "2025-09-29T17:40:34.003615Z",
     "shell.execute_reply": "2025-09-29T17:40:34.002926Z"
    },
    "papermill": {
     "duration": 0.035241,
     "end_time": "2025-09-29T17:40:34.004709",
     "exception": false,
     "start_time": "2025-09-29T17:40:33.969468",
     "status": "completed"
    },
    "tags": []
   },
   "outputs": [],
   "source": [
    "# ADD (simple plots)\n",
    "import matplotlib.pyplot as plt\n",
    "\n",
    "def plot_util_trace(sampler_data, title_suffix=\"\"):\n",
    "    t = np.array(sampler_data[\"t\"], dtype=float)\n",
    "    cpu_u = np.array([x if x is not None else np.nan for x in sampler_data[\"cpu_util\"]], dtype=float)\n",
    "    cpu_m = np.array([x if x is not None else np.nan for x in sampler_data[\"cpu_mem\"]], dtype=float)\n",
    "    gpu_u = np.array([x if x is not None else np.nan for x in sampler_data[\"gpu_util\"]], dtype=float)\n",
    "    gpu_m = np.array([x if x is not None else np.nan for x in sampler_data[\"gpu_mem\"]], dtype=float)\n",
    "\n",
    "    plt.figure(); plt.plot(t, cpu_u); plt.xlabel(\"Time (s)\"); plt.ylabel(\"CPU Util (%)\")\n",
    "    plt.title(f\"CPU Utilization Over Time {title_suffix}\"); plt.show()\n",
    "\n",
    "    if np.isfinite(gpu_u).any():\n",
    "        plt.figure(); plt.plot(t, gpu_u); plt.xlabel(\"Time (s)\"); plt.ylabel(\"GPU Util (%)\")\n",
    "        plt.title(f\"GPU Utilization Over Time {title_suffix}\"); plt.show()\n",
    "\n",
    "    plt.figure(); plt.plot(t, cpu_m); plt.xlabel(\"Time (s)\"); plt.ylabel(\"System RAM (%)\")\n",
    "    plt.title(f\"System Memory Usage Over Time {title_suffix}\"); plt.show()\n",
    "\n",
    "    if np.isfinite(gpu_m).any():\n",
    "        plt.figure(); plt.plot(t, gpu_m); plt.xlabel(\"Time (s)\"); plt.ylabel(\"GPU Memory (%)\")\n",
    "        plt.title(f\"GPU Memory Usage Over Time {title_suffix}\"); plt.show()\n",
    "\n",
    "def plot_latency_hist(latencies_ms, bins=30, title_suffix=\"\"):\n",
    "    if len(latencies_ms) == 0:\n",
    "        print(\"No latency samples.\")\n",
    "        return\n",
    "    plt.figure(); plt.hist(latencies_ms, bins=bins)\n",
    "    plt.xlabel(\"Latency per batch (ms)\"); plt.ylabel(\"Count\")\n",
    "    plt.title(f\"Inference Latency Distribution {title_suffix}\"); plt.show()\n"
   ]
  },
  {
   "cell_type": "code",
   "execution_count": 13,
   "id": "69637997",
   "metadata": {
    "execution": {
     "iopub.execute_input": "2025-09-29T17:40:34.056935Z",
     "iopub.status.busy": "2025-09-29T17:40:34.056693Z",
     "iopub.status.idle": "2025-09-29T17:41:41.779865Z",
     "shell.execute_reply": "2025-09-29T17:41:41.778876Z"
    },
    "jupyter": {
     "source_hidden": true
    },
    "papermill": {
     "duration": 67.779467,
     "end_time": "2025-09-29T17:41:41.810024",
     "exception": false,
     "start_time": "2025-09-29T17:40:34.030557",
     "status": "completed"
    },
    "tags": []
   },
   "outputs": [
    {
     "name": "stdout",
     "output_type": "stream",
     "text": [
      "✅ Total Correct: 6330\n",
      "❌ Total Misclassified: 26\n",
      "\n",
      "🔎 Sample Misclassifications:\n",
      "True=FAKE | Pred=REAL | Conf=84.65%\n",
      "True=REAL | Pred=FAKE | Conf=98.65%\n",
      "True=FAKE | Pred=REAL | Conf=82.86%\n",
      "True=FAKE | Pred=REAL | Conf=81.69%\n",
      "True=FAKE | Pred=REAL | Conf=83.80%\n",
      "True=REAL | Pred=FAKE | Conf=82.13%\n",
      "True=FAKE | Pred=REAL | Conf=97.26%\n",
      "True=FAKE | Pred=REAL | Conf=98.81%\n",
      "True=REAL | Pred=FAKE | Conf=63.55%\n",
      "True=FAKE | Pred=REAL | Conf=62.24%\n",
      "\n",
      "=== Inference Performance ===\n",
      "Device: CUDA (Tesla P100-PCIE-16GB)\n",
      "Batches: 795 | Batch size: 8\n",
      "Latency per batch (ms): mean 2.36 | p50 2.26 | p90 2.71 | p99 2.97\n",
      "Throughput (items/s): 3396.96\n",
      "Peak CUDA allocated: 178.8 MB\n",
      "\n",
      "=== Utilization Averages (during test loop) ===\n",
      "CPU util: 33.2% | CPU mem: 7.0%\n",
      "GPU util: 2.9% | GPU mem: 4.4%\n"
     ]
    }
   ],
   "source": [
    "import torch\n",
    "import torch.nn.functional as F\n",
    "import time\n",
    "\n",
    "model.eval()\n",
    "\n",
    "misclassified = []\n",
    "correct_pred = []\n",
    "\n",
    "# ADD: start utilization sampling\n",
    "sampler = UtilizationSampler(interval_sec=0.1).start()\n",
    "\n",
    "# ADD: latency measurement prep\n",
    "latencies_ms = []\n",
    "if device.type == \"cuda\":\n",
    "    torch.cuda.reset_peak_memory_stats()\n",
    "    starter, ender = torch.cuda.Event(enable_timing=True), torch.cuda.Event(enable_timing=True)\n",
    "\n",
    "with torch.no_grad():\n",
    "    for raw_batch, mel_batch, labels_batch in test_loader:\n",
    "        raw_batch, mel_batch, labels_batch = raw_batch.to(device), mel_batch.to(device), labels_batch.to(device)\n",
    "\n",
    "        # ADD: per-batch timing\n",
    "        if device.type == \"cuda\":\n",
    "            torch.cuda.synchronize()\n",
    "            starter.record()\n",
    "            outputs = model(raw_batch, mel_batch)\n",
    "            ender.record()\n",
    "            torch.cuda.synchronize()\n",
    "            batch_ms = starter.elapsed_time(ender)  # GPU kernel time\n",
    "        else:\n",
    "            t0 = time.perf_counter()\n",
    "            outputs = model(raw_batch, mel_batch)\n",
    "            batch_ms = (time.perf_counter() - t0) * 1000.0\n",
    "\n",
    "        latencies_ms.append(batch_ms)\n",
    "\n",
    "        probs = F.softmax(outputs, dim=1)\n",
    "        preds = torch.argmax(probs, dim=1)\n",
    "\n",
    "        for i in range(len(labels_batch)):\n",
    "            true_label = labels_batch[i].item()\n",
    "            pred_label = preds[i].item()\n",
    "            confidence = probs[i][pred_label].item()\n",
    "\n",
    "            entry = {\n",
    "                \"true\": \"FAKE\" if true_label == 1 else \"REAL\",\n",
    "                \"pred\": \"FAKE\" if pred_label == 1 else \"REAL\",\n",
    "                \"confidence\": confidence\n",
    "            }\n",
    "\n",
    "            if true_label != pred_label:\n",
    "                misclassified.append(entry)\n",
    "            else:\n",
    "                correct_pred.append(entry)\n",
    "\n",
    "# ADD: stop sampler\n",
    "sampler.stop()\n",
    "\n",
    "print(f\"✅ Total Correct: {len(correct_pred)}\")\n",
    "print(f\"❌ Total Misclassified: {len(misclassified)}\")\n",
    "\n",
    "# Keep your sample print\n",
    "print(\"\\n🔎 Sample Misclassifications:\")\n",
    "for item in misclassified[:10]:  # show first 10\n",
    "    print(f\"True={item['true']} | Pred={item['pred']} | Conf={item['confidence']*100:.2f}%\")\n",
    "\n",
    "# === ADD: latency/utilization summary ===\n",
    "import numpy as np\n",
    "latencies_ms = np.array(latencies_ms, dtype=np.float64)\n",
    "if latencies_ms.size:\n",
    "    mean_ms = float(latencies_ms.mean())\n",
    "    p50 = float(np.percentile(latencies_ms, 50))\n",
    "    p90 = float(np.percentile(latencies_ms, 90))\n",
    "    p99 = float(np.percentile(latencies_ms, 99))\n",
    "    throughput = (1000.0 / mean_ms) * getattr(test_loader, 'batch_size', 1)\n",
    "else:\n",
    "    mean_ms = p50 = p90 = p99 = throughput = float('nan')\n",
    "\n",
    "print(\"\\n=== Inference Performance ===\")\n",
    "print(f\"Device: {device.type.upper()}\" + (f\" ({torch.cuda.get_device_name(0)})\" if device.type=='cuda' else \"\"))\n",
    "print(f\"Batches: {len(test_loader)} | Batch size: {getattr(test_loader,'batch_size','N/A')}\")\n",
    "print(f\"Latency per batch (ms): mean {mean_ms:.2f} | p50 {p50:.2f} | p90 {p90:.2f} | p99 {p99:.2f}\")\n",
    "print(f\"Throughput (items/s): {throughput:.2f}\")\n",
    "if device.type == \"cuda\":\n",
    "    peak_mb = torch.cuda.max_memory_allocated() / (1024**2)\n",
    "    print(f\"Peak CUDA allocated: {peak_mb:.1f} MB\")\n",
    "\n",
    "# Utilization averages\n",
    "def _finite_mean(xs):\n",
    "    xs = [x for x in xs if x is not None]\n",
    "    return float(np.mean(xs)) if xs else None\n",
    "\n",
    "cpu_util_avg = _finite_mean(sampler.data['cpu_util'])\n",
    "cpu_mem_avg  = _finite_mean(sampler.data['cpu_mem'])\n",
    "gpu_util_avg = _finite_mean(sampler.data['gpu_util'])\n",
    "gpu_mem_avg  = _finite_mean(sampler.data['gpu_mem'])\n",
    "\n",
    "print(\"\\n=== Utilization Averages (during test loop) ===\")\n",
    "print(f\"CPU util: {cpu_util_avg:.1f}% | CPU mem: {cpu_mem_avg:.1f}%\")\n",
    "if gpu_util_avg is not None:\n",
    "    print(f\"GPU util: {gpu_util_avg:.1f}% | GPU mem: {gpu_mem_avg:.1f}%\")\n",
    "else:\n",
    "    print(\"GPU util/mem: N/A\")\n"
   ]
  },
  {
   "cell_type": "code",
   "execution_count": 14,
   "id": "d1fba3b8",
   "metadata": {
    "execution": {
     "iopub.execute_input": "2025-09-29T17:41:41.864097Z",
     "iopub.status.busy": "2025-09-29T17:41:41.863479Z",
     "iopub.status.idle": "2025-09-29T17:41:42.675155Z",
     "shell.execute_reply": "2025-09-29T17:41:42.674401Z"
    },
    "papermill": {
     "duration": 0.839753,
     "end_time": "2025-09-29T17:41:42.676265",
     "exception": false,
     "start_time": "2025-09-29T17:41:41.836512",
     "status": "completed"
    },
    "tags": []
   },
   "outputs": [
    {
     "data": {
      "image/png": "[encoded data removed]",
      "text/plain": [
       "<Figure size 640x480 with 1 Axes>"
      ]
     },
     "metadata": {},
     "output_type": "display_data"
    },
    {
     "data": {
      "image/png": "[encoded data removed]",
      "text/plain": [
       "<Figure size 640x480 with 1 Axes>"
      ]
     },
     "metadata": {},
     "output_type": "display_data"
    },
    {
     "data": {
      "image/png": "[encoded data removed]",
      "text/plain": [
       "<Figure size 640x480 with 1 Axes>"
      ]
     },
     "metadata": {},
     "output_type": "display_data"
    },
    {
     "data": {
      "image/png": "[encoded data removed]",
      "text/plain": [
       "<Figure size 640x480 with 1 Axes>"
      ]
     },
     "metadata": {},
     "output_type": "display_data"
    },
    {
     "data": {
      "image/png": "[encoded data removed]",
      "text/plain": [
       "<Figure size 640x480 with 1 Axes>"
      ]
     },
     "metadata": {},
     "output_type": "display_data"
    }
   ],
   "source": [
    "# ADD: visualize traces and latency distribution\n",
    "plot_util_trace(sampler.data, title_suffix=\"(Test Loop)\")\n",
    "plot_latency_hist(latencies_ms, title_suffix=\"(Test Loop)\")"
   ]
  },
  {
   "cell_type": "code",
   "execution_count": 15,
   "id": "252b18d3",
   "metadata": {
    "execution": {
     "iopub.execute_input": "2025-09-29T17:41:42.736765Z",
     "iopub.status.busy": "2025-09-29T17:41:42.736173Z",
     "iopub.status.idle": "2025-09-29T17:41:44.161186Z",
     "shell.execute_reply": "2025-09-29T17:41:44.160003Z"
    },
    "papermill": {
     "duration": 1.456756,
     "end_time": "2025-09-29T17:41:44.162668",
     "exception": false,
     "start_time": "2025-09-29T17:41:42.705912",
     "status": "completed"
    },
    "tags": []
   },
   "outputs": [
    {
     "name": "stdout",
     "output_type": "stream",
     "text": [
      "True Label: REAL\n",
      "Prediction: REAL (100.00%)\n",
      "Inference Time: 0.0266 seconds\n"
     ]
    }
   ],
   "source": [
    "import time\n",
    "import torch.nn.functional as F\n",
    "\n",
    "# Move model to device (if not already)\n",
    "device = torch.device(\"cuda\" if torch.cuda.is_available() else \"cpu\")\n",
    "model.to(device)\n",
    "\n",
    "# Get one batch from the validation loader\n",
    "data_iter = iter(test_loader)\n",
    "raw_batch, mel_batch, labels_batch = next(data_iter)\n",
    "\n",
    "# Pick one sample (e.g. index 0)\n",
    "raw_sample = raw_batch[2].unsqueeze(0).to(device)  # move to GPU\n",
    "mel_sample = mel_batch[2].unsqueeze(0).to(device)  # move to GPU\n",
    "label = labels_batch[2].item()\n",
    "\n",
    "# Start timing\n",
    "start_time = time.time()\n",
    "\n",
    "# Run inference\n",
    "model.eval()\n",
    "with torch.no_grad():\n",
    "    output = model(raw_sample, mel_sample)\n",
    "    prediction = torch.argmax(output, dim=1).item()\n",
    "    probs = F.softmax(output, dim=1)\n",
    "    confidence = probs[0][prediction].item()\n",
    "\n",
    "end_time = time.time()\n",
    "inference_time = end_time - start_time\n",
    "\n",
    "# Print results\n",
    "print(f\"True Label: {'FAKE' if label == 1 else 'REAL'}\")\n",
    "print(f\"Prediction: {'FAKE' if prediction == 1 else 'REAL'} ({confidence*100:.2f}%)\")\n",
    "print(f\"Inference Time: {inference_time:.4f} seconds\")"
   ]
  }
 ],
 "metadata": {
  "kaggle": {
   "accelerator": "gpu",
   "dataSources": [
    {
     "datasetId": 3579787,
     "sourceId": 6358196,
     "sourceType": "datasetVersion"
    },
    {
     "datasetId": 4836275,
     "sourceId": 8171572,
     "sourceType": "datasetVersion"
    },
    {
     "datasetId": 5127760,
     "sourceId": 8575334,
     "sourceType": "datasetVersion"
    }
   ],
   "dockerImageVersionId": 31040,
   "isGpuEnabled": true,
   "isInternetEnabled": true,
   "language": "python",
   "sourceType": "notebook"
  },
  "kernelspec": {
   "display_name": "Python 3",
   "language": "python",
   "name": "python3"
  },
  "language_info": {
   "codemirror_mode": {
    "name": "ipython",
    "version": 3
   },
   "file_extension": ".py",
   "mimetype": "text/x-python",
   "name": "python",
   "nbconvert_exporter": "python",
   "pygments_lexer": "ipython3",
   "version": "3.11.11"
  },
  "papermill": {
   "default_parameters": {},
   "duration": 2416.138196,
   "end_time": "2025-09-29T17:41:46.913768",
   "environment_variables": {},
   "exception": null,
   "input_path": "__notebook__.ipynb",
   "output_path": "__notebook__.ipynb",
   "parameters": {},
   "start_time": "2025-09-29T17:01:30.775572",
   "version": "2.6.0"
  }
 },
 "nbformat": 4,
 "nbformat_minor": 5
}
