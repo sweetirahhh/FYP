{
 "cells": [
  {
   "cell_type": "code",
   "execution_count": 1,
   "id": "e4a27374",
   "metadata": {
    "_kg_hide-output": false,
    "execution": {
     "iopub.execute_input": "2025-10-29T11:54:30.763242Z",
     "iopub.status.busy": "2025-10-29T11:54:30.762921Z",
     "iopub.status.idle": "2025-10-29T11:54:39.153312Z",
     "shell.execute_reply": "2025-10-29T11:54:39.152411Z"
    },
    "papermill": {
     "duration": 8.399569,
     "end_time": "2025-10-29T11:54:39.154759",
     "exception": false,
     "start_time": "2025-10-29T11:54:30.755190",
     "status": "completed"
    },
    "tags": []
   },
   "outputs": [
    {
     "name": "stdout",
     "output_type": "stream",
     "text": [
      "CUDA available: True\n"
     ]
    }
   ],
   "source": [
    "!pip -q install scikit-learn\n",
    "\n",
    "import os, torch, torchaudio\n",
    "print(\"CUDA available:\", torch.cuda.is_available())"
   ]
  },
  {
   "cell_type": "code",
   "execution_count": 2,
   "id": "4cb44817",
   "metadata": {
    "execution": {
     "iopub.execute_input": "2025-10-29T11:54:39.167512Z",
     "iopub.status.busy": "2025-10-29T11:54:39.167151Z",
     "iopub.status.idle": "2025-10-29T11:54:40.241271Z",
     "shell.execute_reply": "2025-10-29T11:54:40.240712Z"
    },
    "papermill": {
     "duration": 1.081894,
     "end_time": "2025-10-29T11:54:40.242610",
     "exception": false,
     "start_time": "2025-10-29T11:54:39.160716",
     "status": "completed"
    },
    "tags": []
   },
   "outputs": [],
   "source": [
    "import os, math, time, json, pathlib, random\n",
    "from typing import Tuple, Dict\n",
    "import numpy as np\n",
    "\n",
    "import torch\n",
    "import torch.nn as nn\n",
    "import torch.nn.functional as F\n",
    "from torch.utils.data import Dataset, DataLoader, Subset\n",
    "import torchaudio\n",
    "\n",
    "from sklearn.model_selection import train_test_split\n",
    "from sklearn.metrics import (\n",
    "    confusion_matrix,\n",
    "    roc_auc_score,\n",
    "    roc_curve,\n",
    "    ConfusionMatrixDisplay\n",
    ")\n",
    "import matplotlib.pyplot as plt\n",
    "\n",
    "# Reproducibility\n",
    "SEED = 42\n",
    "random.seed(SEED)\n",
    "os.environ[\"PYTHONHASHSEED\"] = str(SEED)\n",
    "torch.manual_seed(SEED)\n",
    "torch.cuda.manual_seed_all(SEED)\n",
    "\n",
    "# =========================\n",
    "# Config\n",
    "# =========================\n",
    "SAMPLE_RATE = 16000\n",
    "DURATION_S  = 1.0   # we'll crop/pad to 1 second\n",
    "N_MELS      = 128\n",
    "BATCH_SIZE  = 32\n",
    "EPOCHS      = 30\n",
    "\n",
    "# Telephony augmentation toggle (baseline Task A = False)\n",
    "USE_AUG = False\n",
    "\n",
    "# dataset caps based on your requirement\n",
    "REAL_MAIN_CAP  = 60000   # from combined_folder/real\n",
    "REAL_WILD_CAP  = 20000   # from in-the-wild/real\n",
    "# fake is ~80k from AUDETER, we take all\n",
    "\n",
    "# Paths (edit if Kaggle mount names change)\n",
    "FAKE_ROOT       = \"/kaggle/input/audeter-subset-3500each-all/audeter_subset_3500each_ALL\"\n",
    "REAL_MAIN_ROOT  = \"/kaggle/input/ready-to-input-for-training/combined_folder/real\"\n",
    "REAL_WILD_ROOT  = \"/kaggle/input/in-the-wild-audio-deepfake/release_in_the_wild/real\"\n",
    "\n",
    "device = torch.device(\"cuda\" if torch.cuda.is_available() else \"cpu\")\n"
   ]
  },
  {
   "cell_type": "markdown",
   "id": "d825a391",
   "metadata": {
    "papermill": {
     "duration": 0.005433,
     "end_time": "2025-10-29T11:54:40.253973",
     "exception": false,
     "start_time": "2025-10-29T11:54:40.248540",
     "status": "completed"
    },
    "tags": []
   },
   "source": [
    "dataset (torchaudio-only; no librosa)"
   ]
  },
  {
   "cell_type": "code",
   "execution_count": 3,
   "id": "96de65ba",
   "metadata": {
    "execution": {
     "iopub.execute_input": "2025-10-29T11:54:40.266361Z",
     "iopub.status.busy": "2025-10-29T11:54:40.266008Z",
     "iopub.status.idle": "2025-10-29T11:54:40.280373Z",
     "shell.execute_reply": "2025-10-29T11:54:40.279817Z"
    },
    "papermill": {
     "duration": 0.022084,
     "end_time": "2025-10-29T11:54:40.281496",
     "exception": false,
     "start_time": "2025-10-29T11:54:40.259412",
     "status": "completed"
    },
    "tags": []
   },
   "outputs": [],
   "source": [
    "class TelephonyAug:\n",
    "    \"\"\"\n",
    "    Phone-like narrowband + mild distortion + light noise.\n",
    "    We'll leave USE_AUG=False for Task A baseline training,\n",
    "    but this will be important later for Task B continual learning.\n",
    "    \"\"\"\n",
    "    def __init__(self, sample_rate=16000, nb_sr=8000, noise_snr_db=(10, 25)):\n",
    "        self.sr = sample_rate\n",
    "        self.nb_sr = nb_sr\n",
    "        self.noise_snr_db = noise_snr_db\n",
    "\n",
    "    def _add_noise(self, x: torch.Tensor):\n",
    "        snr_db = float(np.random.uniform(*self.noise_snr_db))\n",
    "        p_sig = x.pow(2).mean().item() + 1e-12\n",
    "        p_noise = p_sig / (10 ** (snr_db / 10))\n",
    "        noise = torch.randn_like(x) * math.sqrt(p_noise)\n",
    "        return x + noise\n",
    "\n",
    "    def __call__(self, wav: torch.Tensor):\n",
    "        # downsample to narrowband-ish, compand, upsample, bandlimit, add noise\n",
    "        y = torchaudio.functional.resample(wav, self.sr, self.nb_sr)\n",
    "        y = torch.tanh(1.5 * y)\n",
    "        y = torchaudio.functional.resample(y, self.nb_sr, self.sr)\n",
    "        y = torchaudio.functional.highpass_biquad(y, self.sr, 300)\n",
    "        y = torchaudio.functional.lowpass_biquad(y, self.sr, 3400)\n",
    "        y = self._add_noise(y)\n",
    "        return y\n",
    "\n",
    "\n",
    "class DeepfakeAudioDatasetTaskA(Dataset):\n",
    "    \"\"\"\n",
    "    Task A dataset:\n",
    "    - Fake: all clips from AUDETER (~80k), label=1\n",
    "    - Real: 60k clips from combined_folder/real, label=0\n",
    "    - Real: 20k clips from in-the-wild/real, label=0\n",
    "    Result: ~80k fake vs ~80k real (balanced).\n",
    "    \"\"\"\n",
    "    def __init__(\n",
    "        self,\n",
    "        fake_root: str,\n",
    "        real_root_main: str,\n",
    "        real_root_wild: str,\n",
    "        real_main_cap: int = 60000,\n",
    "        real_wild_cap: int = 20000,\n",
    "        sample_rate: int = 16000,\n",
    "        duration: float = 1.0,\n",
    "        n_mels: int = 128,\n",
    "        use_aug: bool = False,\n",
    "        extensions=(\".wav\", \".flac\", \".mp3\")\n",
    "    ):\n",
    "        self.sample_rate = sample_rate\n",
    "        self.duration = duration\n",
    "        self.max_len = int(sample_rate * duration)\n",
    "        self.n_mels = n_mels\n",
    "        self.use_aug = use_aug\n",
    "\n",
    "        # --------------------\n",
    "        # 1. Collect FAKE (label=1) from AUDETER (recursive scan)\n",
    "        # --------------------\n",
    "        fake_paths = []\n",
    "        if os.path.isdir(fake_root):\n",
    "            for root, dirs, files in os.walk(fake_root):\n",
    "                for f in files:\n",
    "                    if f.lower().endswith(extensions):\n",
    "                        fake_paths.append(os.path.join(root, f))\n",
    "        fake_labels = [1] * len(fake_paths)\n",
    "\n",
    "        # --------------------\n",
    "        # 2. Collect REAL from combined_folder/real (cap 60k)\n",
    "        # --------------------\n",
    "        real_paths_main = []\n",
    "        if os.path.isdir(real_root_main):\n",
    "            for f in os.listdir(real_root_main):\n",
    "                p = os.path.join(real_root_main, f)\n",
    "                if os.path.isfile(p) and f.lower().endswith(extensions):\n",
    "                    real_paths_main.append(p)\n",
    "        random.shuffle(real_paths_main)\n",
    "        real_paths_main = real_paths_main[:real_main_cap]\n",
    "\n",
    "        # --------------------\n",
    "        # 3. Collect REAL from in-the-wild/real (cap 20k)\n",
    "        # --------------------\n",
    "        real_paths_wild = []\n",
    "        if os.path.isdir(real_root_wild):\n",
    "            for f in os.listdir(real_root_wild):\n",
    "                p = os.path.join(real_root_wild, f)\n",
    "                if os.path.isfile(p) and f.lower().endswith(extensions):\n",
    "                    real_paths_wild.append(p)\n",
    "        random.shuffle(real_paths_wild)\n",
    "        real_paths_wild = real_paths_wild[:real_wild_cap]\n",
    "\n",
    "        # --------------------\n",
    "        # 4. Merge REAL pools\n",
    "        # --------------------\n",
    "        real_paths = real_paths_main + real_paths_wild\n",
    "        real_labels = [0] * len(real_paths)\n",
    "\n",
    "        # --------------------\n",
    "        # 5. Final combined list\n",
    "        # --------------------\n",
    "        self.audio_paths = fake_paths + real_paths\n",
    "        self.labels = fake_labels + real_labels\n",
    "\n",
    "        print(f\"[TaskA Dataset] fake={len(fake_paths)} real={len(real_paths)} total={len(self.audio_paths)}\")\n",
    "\n",
    "        # --------------------\n",
    "        # 6. Feature transforms: MelSpectrogram + dB\n",
    "        # --------------------\n",
    "        self.melspec = torchaudio.transforms.MelSpectrogram(\n",
    "            sample_rate=self.sample_rate,\n",
    "            n_mels=self.n_mels,\n",
    "            n_fft=1024,\n",
    "            hop_length=256,\n",
    "            power=2.0\n",
    "        )\n",
    "        self.to_db = torchaudio.transforms.AmplitudeToDB(stype=\"power\")\n",
    "\n",
    "        self.tel_aug = TelephonyAug(sample_rate=self.sample_rate) if self.use_aug else None\n",
    "\n",
    "    def __len__(self):\n",
    "        return len(self.audio_paths)\n",
    "\n",
    "    def _load_resample_mono(self, path: str) -> torch.Tensor:\n",
    "        wav, sr = torchaudio.load(path)  # (C, N)\n",
    "        wav = wav.mean(dim=0)  # mono mixdown\n",
    "        if sr != self.sample_rate:\n",
    "            wav = torchaudio.functional.resample(wav, sr, self.sample_rate)\n",
    "\n",
    "        # pad or trim to fixed length\n",
    "        if wav.shape[0] < self.max_len:\n",
    "            wav = F.pad(wav, (0, self.max_len - wav.shape[0]))\n",
    "        else:\n",
    "            wav = wav[: self.max_len]\n",
    "        return wav\n",
    "\n",
    "    def __getitem__(self, idx: int):\n",
    "        path = self.audio_paths[idx]\n",
    "        label = self.labels[idx]\n",
    "\n",
    "        wav = self._load_resample_mono(path)  # shape (L,)\n",
    "        if self.tel_aug is not None:\n",
    "            wav = self.tel_aug(wav)\n",
    "\n",
    "        wav_2d = wav.unsqueeze(0)  # (1, L)\n",
    "\n",
    "        mel = self.melspec(wav_2d)  # (1, n_mels, T)\n",
    "        mel_db = self.to_db(mel)\n",
    "\n",
    "        return wav_2d.float(), mel_db.float(), torch.tensor(label).long()\n"
   ]
  },
  {
   "cell_type": "markdown",
   "id": "cb030f19",
   "metadata": {
    "papermill": {
     "duration": 0.005251,
     "end_time": "2025-10-29T11:54:40.292131",
     "exception": false,
     "start_time": "2025-10-29T11:54:40.286880",
     "status": "completed"
    },
    "tags": []
   },
   "source": [
    "Here we:\n",
    "\n",
    "define TelephonyAug,\n",
    "\n",
    "define DeepfakeAudioDatasetTaskA that:\n",
    "\n",
    "loads all fake from AUDETER,\n",
    "\n",
    "loads 60k real from combined_folder/real,\n",
    "\n",
    "loads 20k real from in-the-wild/real,\n",
    "\n",
    "does waveform trimming/padding,\n",
    "\n",
    "makes Mel-spectrogram."
   ]
  },
  {
   "cell_type": "code",
   "execution_count": 4,
   "id": "6fd57dda",
   "metadata": {
    "_cell_guid": "b1076dfc-b9ad-4769-8c92-a6c4dae69d19",
    "_uuid": "8f2839f25d086af736a60e9eeb907d3b93b6e0e5",
    "execution": {
     "iopub.execute_input": "2025-10-29T11:54:40.303831Z",
     "iopub.status.busy": "2025-10-29T11:54:40.303426Z",
     "iopub.status.idle": "2025-10-29T11:54:40.311755Z",
     "shell.execute_reply": "2025-10-29T11:54:40.311178Z"
    },
    "papermill": {
     "duration": 0.0153,
     "end_time": "2025-10-29T11:54:40.312747",
     "exception": false,
     "start_time": "2025-10-29T11:54:40.297447",
     "status": "completed"
    },
    "tags": []
   },
   "outputs": [],
   "source": [
    "class SpecRNet(nn.Module):\n",
    "    \"\"\"\n",
    "    CNN over Mel-spectrogram -> 128-D embedding\n",
    "    \"\"\"\n",
    "    def __init__(self):\n",
    "        super().__init__()\n",
    "        self.features = nn.Sequential(\n",
    "            nn.Conv2d(1, 32, kernel_size=3, padding=1),\n",
    "            nn.ReLU(),\n",
    "            nn.MaxPool2d(2),\n",
    "            nn.Conv2d(32, 64, kernel_size=3, padding=1),\n",
    "            nn.ReLU(),\n",
    "            nn.AdaptiveAvgPool2d((1, 1))\n",
    "        )\n",
    "        self.fc = nn.Linear(64, 128)\n",
    "\n",
    "    def forward(self, x):\n",
    "        x = self.features(x)      # (B,64,1,1)\n",
    "        x = x.view(x.size(0), -1) # (B,64)\n",
    "        return self.fc(x)         # (B,128)\n",
    "\n",
    "\n",
    "class RawGATST(nn.Module):\n",
    "    \"\"\"\n",
    "    Lightweight 1D conv stack on raw waveform -> 128-D embedding\n",
    "    \"\"\"\n",
    "    def __init__(self):\n",
    "        super().__init__()\n",
    "        self.conv = nn.Sequential(\n",
    "            nn.Conv1d(1, 64, kernel_size=5, stride=2, padding=2),\n",
    "            nn.BatchNorm1d(64),\n",
    "            nn.ReLU(),\n",
    "            nn.Conv1d(64, 128, kernel_size=5, stride=2, padding=2),\n",
    "            nn.BatchNorm1d(128),\n",
    "            nn.ReLU()\n",
    "        )\n",
    "        self.pool = nn.AdaptiveAvgPool1d(1)\n",
    "        self.fc = nn.Linear(128, 128)\n",
    "\n",
    "    def forward(self, x):\n",
    "        x = self.conv(x)              # (B,128,T')\n",
    "        x = self.pool(x).squeeze(-1)  # (B,128)\n",
    "        return self.fc(x)             # (B,128)\n",
    "\n",
    "\n",
    "class FusionNet(nn.Module):\n",
    "    \"\"\"\n",
    "    Fuse raw branch + mel branch -> classifier (REAL vs FAKE)\n",
    "    \"\"\"\n",
    "    def __init__(self):\n",
    "        super().__init__()\n",
    "        self.spec_model = SpecRNet()\n",
    "        self.raw_model  = RawGATST()\n",
    "        self.classifier = nn.Sequential(\n",
    "            nn.Linear(256, 128),\n",
    "            nn.ReLU(),\n",
    "            nn.Dropout(0.3),\n",
    "            nn.Linear(128, 2)\n",
    "        )\n",
    "\n",
    "    def forward(self, raw_wave, mel_spec):\n",
    "        raw_feat  = self.raw_model(raw_wave)    # (B,128)\n",
    "        spec_feat = self.spec_model(mel_spec)   # (B,128)\n",
    "        fused = torch.cat((raw_feat, spec_feat), dim=1)  # (B,256)\n",
    "        return self.classifier(fused)           # (B,2)\n"
   ]
  },
  {
   "cell_type": "markdown",
   "id": "3e5bb645",
   "metadata": {
    "papermill": {
     "duration": 0.005206,
     "end_time": "2025-10-29T11:54:40.323299",
     "exception": false,
     "start_time": "2025-10-29T11:54:40.318093",
     "status": "completed"
    },
    "tags": []
   },
   "source": [
    "1.\tSpecRNet → CNN applied on Mel-spectrograms (2D input).\n",
    "(mel_spec): a time–frequency representation, closer to how humans perceive sound, useful to detect spectral artifacts in fakes\n",
    "2.\tRawGAT-ST → CNN applied on raw waveforms (1D input).\n",
    "(raw_wave): the direct audio signal, useful to capture fine low-level details (noise, glitches).\n",
    "3.\tFeature Fusion → Concatenation of both feature vectors.\n",
    "---->processes two views of the same audio.\n"
   ]
  },
  {
   "cell_type": "markdown",
   "id": "c286f16e",
   "metadata": {
    "papermill": {
     "duration": 0.005126,
     "end_time": "2025-10-29T11:54:40.333753",
     "exception": false,
     "start_time": "2025-10-29T11:54:40.328627",
     "status": "completed"
    },
    "tags": []
   },
   "source": [
    "models (SpecRNet, RawGATST, FusionNet)"
   ]
  },
  {
   "cell_type": "code",
   "execution_count": 5,
   "id": "23b1726c",
   "metadata": {
    "execution": {
     "iopub.execute_input": "2025-10-29T11:54:40.345610Z",
     "iopub.status.busy": "2025-10-29T11:54:40.345367Z",
     "iopub.status.idle": "2025-10-29T11:54:40.360119Z",
     "shell.execute_reply": "2025-10-29T11:54:40.359522Z"
    },
    "papermill": {
     "duration": 0.022141,
     "end_time": "2025-10-29T11:54:40.361183",
     "exception": false,
     "start_time": "2025-10-29T11:54:40.339042",
     "status": "completed"
    },
    "tags": []
   },
   "outputs": [],
   "source": [
    "@torch.no_grad()\n",
    "def evaluate(model, loader, device):\n",
    "    model.eval()\n",
    "    total = 0\n",
    "    correct = 0\n",
    "    total_loss = 0.0\n",
    "    loss_fn = nn.CrossEntropyLoss()\n",
    "    for raw, mel, labels in loader:\n",
    "        raw, mel, labels = raw.to(device), mel.to(device), labels.to(device)\n",
    "        outputs = model(raw, mel)\n",
    "        loss = loss_fn(outputs, labels)\n",
    "        total_loss += loss.item() * labels.size(0)\n",
    "        preds = outputs.argmax(1)\n",
    "        correct += (preds == labels).sum().item()\n",
    "        total += labels.size(0)\n",
    "    return total_loss / max(1, total), correct / max(1, total)\n",
    "\n",
    "\n",
    "def count_params(model: nn.Module):\n",
    "    return sum(p.numel() for p in model.parameters())\n",
    "\n",
    "\n",
    "def file_size_mb(path: str) -> float:\n",
    "    p = pathlib.Path(path)\n",
    "    return p.stat().st_size / (1024 * 1024)\n",
    "\n",
    "\n",
    "def benchmark_inference(model, loader, device=torch.device(\"cpu\")):\n",
    "    model = model.to(device).eval()\n",
    "    start = time.time()\n",
    "    n = 0\n",
    "    with torch.no_grad():\n",
    "        for raw, mel, _ in loader:\n",
    "            raw, mel = raw.to(device), mel.to(device)\n",
    "            _ = model(raw, mel)\n",
    "            n += raw.size(0)\n",
    "    dt = time.time() - start\n",
    "    return {\n",
    "        \"batches\": len(loader),\n",
    "        \"samples\": n,\n",
    "        \"total_sec\": dt,\n",
    "        \"sec_per_batch\": dt / max(1, len(loader)),\n",
    "        \"ms_per_sample\": 1000.0 * dt / max(1, n),\n",
    "    }\n",
    "\n",
    "\n",
    "def eval_confusion_auc_eer(model, loader, device=torch.device(\"cpu\")):\n",
    "    model = model.to(device).eval()\n",
    "    ys, ps = [], []\n",
    "    with torch.no_grad():\n",
    "        for raw, mel, y in loader:\n",
    "            raw, mel = raw.to(device), mel.to(device)\n",
    "            prob_fake = F.softmax(model(raw, mel), dim=1)[:, 1].cpu().numpy()\n",
    "            ys.append(y.numpy()); ps.append(prob_fake)\n",
    "    y_true = np.concatenate(ys)\n",
    "    y_score = np.concatenate(ps)\n",
    "\n",
    "    # Confusion matrix @ threshold 0.5\n",
    "    y_pred = (y_score >= 0.5).astype(int)\n",
    "    cm = confusion_matrix(y_true, y_pred, labels=[0, 1])\n",
    "\n",
    "    # ROC-AUC\n",
    "    try:\n",
    "        auc = roc_auc_score(y_true, y_score)\n",
    "    except ValueError:\n",
    "        auc = float(\"nan\")\n",
    "\n",
    "    # EER\n",
    "    fpr, tpr, th = roc_curve(y_true, y_score)\n",
    "    fnr = 1 - tpr\n",
    "    idx = np.nanargmin(np.abs(fpr - fnr))\n",
    "    eer = 0.5 * (fpr[idx] + fnr[idx])\n",
    "    eer_thr = th[idx]\n",
    "    return {\n",
    "        \"confusion_matrix\": cm.tolist(),\n",
    "        \"roc_auc\": float(auc),\n",
    "        \"eer\": float(eer),\n",
    "        \"eer_threshold\": float(eer_thr)\n",
    "    }\n",
    "\n",
    "\n",
    "from torch.quantization import quantize_dynamic\n",
    "def quantize_linear_layers(model: nn.Module) -> nn.Module:\n",
    "    q_model = quantize_dynamic(model, {nn.Linear}, dtype=torch.qint8)\n",
    "    return q_model\n",
    "\n",
    "\n",
    "def export_onnx(model, out_path=\"fusionnet_taskA.onnx\", raw_len=16000, n_mels=128, t_frames=64):\n",
    "    \"\"\"\n",
    "    Exports ONNX with dummy shapes. We'll do shape inference again later with val batch.\n",
    "    \"\"\"\n",
    "    model_cpu = model.to(\"cpu\").eval()\n",
    "    dummy_raw = torch.randn(1, 1, raw_len)\n",
    "    dummy_mel = torch.randn(1, 1, n_mels, t_frames)\n",
    "    torch.onnx.export(\n",
    "        model_cpu, (dummy_raw, dummy_mel), out_path,\n",
    "        input_names=[\"raw\", \"mel\"],\n",
    "        output_names=[\"logits\"],\n",
    "        opset_version=17,\n",
    "        dynamic_axes={\n",
    "            \"raw\": {2: \"raw_len\"},\n",
    "            \"mel\": {2: \"n_mels\", 3: \"time\"},\n",
    "            \"logits\": {1: \"num_classes\"},\n",
    "        },\n",
    "    )\n",
    "    print(\"Exported:\", out_path)\n",
    "\n",
    "\n",
    "def post_training_report(model, val_loader, test_loader):\n",
    "    torch.save(model.state_dict(), \"fusionnet_taskA_fp32.pth\")\n",
    "    fp32_mb = file_size_mb(\"fusionnet_taskA_fp32.pth\")\n",
    "\n",
    "    cpu_stats = benchmark_inference(model, val_loader, device=torch.device(\"cpu\"))\n",
    "    metrics   = eval_confusion_auc_eer(model, test_loader, device=torch.device(\"cpu\"))\n",
    "\n",
    "    q_model = quantize_linear_layers(model)\n",
    "    torch.save(q_model.state_dict(), \"fusionnet_taskA_int8_linear.pth\")\n",
    "    int8_mb = file_size_mb(\"fusionnet_taskA_int8_linear.pth\")\n",
    "\n",
    "    q_cpu_stats = benchmark_inference(q_model, val_loader, device=torch.device(\"cpu\"))\n",
    "    q_metrics   = eval_confusion_auc_eer(q_model, test_loader, device=torch.device(\"cpu\"))\n",
    "\n",
    "    report = {\n",
    "        \"model_params\": int(count_params(model)),\n",
    "        \"files\": {\n",
    "            \"fp32_path\": \"fusionnet_taskA_fp32.pth\", \"fp32_mb\": round(fp32_mb, 3),\n",
    "            \"int8_path\": \"fusionnet_taskA_int8_linear.pth\", \"int8_mb\": round(int8_mb, 3),\n",
    "        },\n",
    "        \"cpu_benchmark_fp32\": cpu_stats,\n",
    "        \"cpu_benchmark_int8\": q_cpu_stats,\n",
    "        \"metrics_fp32\": metrics,\n",
    "        \"metrics_int8\": q_metrics,\n",
    "    }\n",
    "    print(json.dumps(report, indent=2))\n",
    "    return report\n"
   ]
  },
  {
   "cell_type": "code",
   "execution_count": 6,
   "id": "16753815",
   "metadata": {
    "execution": {
     "iopub.execute_input": "2025-10-29T11:54:40.372943Z",
     "iopub.status.busy": "2025-10-29T11:54:40.372722Z",
     "iopub.status.idle": "2025-10-29T12:44:48.057555Z",
     "shell.execute_reply": "2025-10-29T12:44:48.056458Z"
    },
    "papermill": {
     "duration": 3007.698921,
     "end_time": "2025-10-29T12:44:48.065619",
     "exception": false,
     "start_time": "2025-10-29T11:54:40.366698",
     "status": "completed"
    },
    "tags": []
   },
   "outputs": [
    {
     "name": "stdout",
     "output_type": "stream",
     "text": [
      "[TaskA Dataset] fake=80500 real=79963 total=160463\n",
      "Task A split sizes: 96277 32093 32093\n"
     ]
    }
   ],
   "source": [
    "taskA_dataset = DeepfakeAudioDatasetTaskA(\n",
    "    fake_root=FAKE_ROOT,\n",
    "    real_root_main=REAL_MAIN_ROOT,\n",
    "    real_root_wild=REAL_WILD_ROOT,\n",
    "    real_main_cap=REAL_MAIN_CAP,\n",
    "    real_wild_cap=REAL_WILD_CAP,\n",
    "    sample_rate=SAMPLE_RATE,\n",
    "    duration=DURATION_S,\n",
    "    n_mels=N_MELS,\n",
    "    use_aug=USE_AUG\n",
    ")\n",
    "\n",
    "# Stratified split 60% train / 20% val / 20% test\n",
    "indices = list(range(len(taskA_dataset)))\n",
    "labels_for_strat = [taskA_dataset[i][2].item() for i in indices]\n",
    "\n",
    "train_idx, temp_idx = train_test_split(\n",
    "    indices,\n",
    "    test_size=0.4,\n",
    "    random_state=SEED,\n",
    "    shuffle=True,\n",
    "    stratify=labels_for_strat\n",
    ")\n",
    "val_idx, test_idx = train_test_split(\n",
    "    temp_idx,\n",
    "    test_size=0.5,\n",
    "    random_state=SEED,\n",
    "    shuffle=True,\n",
    "    stratify=[labels_for_strat[i] for i in temp_idx]\n",
    ")\n",
    "\n",
    "train_set_A = Subset(taskA_dataset, train_idx)\n",
    "val_set_A   = Subset(taskA_dataset, val_idx)\n",
    "test_set_A  = Subset(taskA_dataset, test_idx)\n",
    "\n",
    "train_loader_A = DataLoader(\n",
    "    train_set_A, batch_size=BATCH_SIZE, shuffle=True,\n",
    "    num_workers=2, pin_memory=True\n",
    ")\n",
    "val_loader_A = DataLoader(\n",
    "    val_set_A, batch_size=BATCH_SIZE, shuffle=False,\n",
    "    num_workers=2, pin_memory=True\n",
    ")\n",
    "test_loader_A = DataLoader(\n",
    "    test_set_A, batch_size=BATCH_SIZE, shuffle=False,\n",
    "    num_workers=2, pin_memory=True\n",
    ")\n",
    "\n",
    "print(\"Task A split sizes:\",\n",
    "      len(train_set_A), len(val_set_A), len(test_set_A))\n"
   ]
  },
  {
   "cell_type": "code",
   "execution_count": 7,
   "id": "448b9776",
   "metadata": {
    "execution": {
     "iopub.execute_input": "2025-10-29T12:44:48.079101Z",
     "iopub.status.busy": "2025-10-29T12:44:48.078815Z",
     "iopub.status.idle": "2025-10-29T12:44:48.084535Z",
     "shell.execute_reply": "2025-10-29T12:44:48.083967Z"
    },
    "papermill": {
     "duration": 0.013693,
     "end_time": "2025-10-29T12:44:48.085534",
     "exception": false,
     "start_time": "2025-10-29T12:44:48.071841",
     "status": "completed"
    },
    "tags": []
   },
   "outputs": [],
   "source": [
    "import random as pyrand\n",
    "\n",
    "class StrongAug:\n",
    "    \"\"\"\n",
    "    Stronger audio augmentation pipeline intended for Task B / telephony robustness.\n",
    "    Not used in Task A baseline training, but kept here for continual learning phase.\n",
    "    \"\"\"\n",
    "    def __init__(self, sr=16000):\n",
    "        self.sr = sr\n",
    "        self.tel = TelephonyAug(sample_rate=sr)\n",
    "\n",
    "    def __call__(self, wav):\n",
    "        x = wav\n",
    "        # Telephony distortion ~70% chance\n",
    "        if pyrand.random() < 0.7:\n",
    "            x = self.tel(x)\n",
    "        # light speed perturb ~50% chance\n",
    "        try:\n",
    "            if pyrand.random() < 0.5:\n",
    "                rate = pyrand.uniform(0.92, 1.08)\n",
    "                x, _ = torchaudio.sox_effects.apply_effects_tensor(\n",
    "                    x.unsqueeze(0), self.sr,\n",
    "                    [[\"speed\", f\"{rate}\"], [\"rate\", str(self.sr)]]\n",
    "                )\n",
    "                x = x.squeeze(0)\n",
    "        except Exception:\n",
    "            pass\n",
    "        return x\n",
    "\n",
    "# NOTE:\n",
    "# For Task A baseline, we are *not* overwriting tel_aug.\n",
    "# Later for Task B (continual learning), you can do:\n",
    "# taskA_dataset.tel_aug = StrongAug(SAMPLE_RATE)\n"
   ]
  },
  {
   "cell_type": "code",
   "execution_count": 8,
   "id": "a283cd0b",
   "metadata": {
    "execution": {
     "iopub.execute_input": "2025-10-29T12:44:48.098190Z",
     "iopub.status.busy": "2025-10-29T12:44:48.097921Z",
     "iopub.status.idle": "2025-10-29T18:48:55.975565Z",
     "shell.execute_reply": "2025-10-29T18:48:55.974501Z"
    },
    "papermill": {
     "duration": 21847.893543,
     "end_time": "2025-10-29T18:48:55.984809",
     "exception": false,
     "start_time": "2025-10-29T12:44:48.091266",
     "status": "completed"
    },
    "tags": []
   },
   "outputs": [
    {
     "name": "stdout",
     "output_type": "stream",
     "text": [
      "[TaskA] Epoch 01 | train 0.1295/0.9695 | val 0.0613/0.9954\n",
      "[TaskA] Epoch 02 | train 0.0630/0.9948 | val 0.1660/0.9873\n",
      "[TaskA] Epoch 03 | train 0.0435/0.9966 | val 0.0150/0.9988\n",
      "[TaskA] Epoch 04 | train 0.0351/0.9973 | val 0.0357/0.9977\n",
      "[TaskA] Epoch 05 | train 0.0283/0.9980 | val 0.0217/0.9987\n",
      "[TaskA] Epoch 06 | train 0.0293/0.9979 | val 0.0463/0.9961\n",
      "[TaskA] Epoch 07 | train 0.0151/0.9989 | val 0.0119/0.9990\n",
      "[TaskA] Epoch 08 | train 0.0173/0.9988 | val 0.0095/0.9994\n",
      "[TaskA] Epoch 09 | train 0.0124/0.9991 | val 0.0120/0.9994\n",
      "[TaskA] Epoch 10 | train 0.0171/0.9987 | val 0.0109/0.9993\n",
      "[TaskA] Epoch 11 | train 0.0110/0.9993 | val 0.0114/0.9993\n",
      "[TaskA] Epoch 12 | train 0.0087/0.9992 | val 0.0088/0.9995\n",
      "[TaskA] Epoch 13 | train 0.0084/0.9994 | val 0.0101/0.9993\n",
      "[TaskA] Epoch 14 | train 0.0073/0.9995 | val 0.0162/0.9986\n",
      "[TaskA] Epoch 15 | train 0.0082/0.9994 | val 0.0084/0.9995\n",
      "[TaskA] Epoch 16 | train 0.0081/0.9994 | val 0.0051/0.9995\n",
      "[TaskA] Epoch 17 | train 0.0071/0.9994 | val 0.0063/0.9996\n",
      "[TaskA] Epoch 18 | train 0.0061/0.9996 | val 0.0083/0.9993\n",
      "[TaskA] Epoch 19 | train 0.0082/0.9994 | val 0.0072/0.9996\n",
      "[TaskA] Epoch 20 | train 0.0036/0.9997 | val 0.0043/0.9996\n",
      "[TaskA] Epoch 21 | train 0.0043/0.9997 | val 0.0076/0.9995\n",
      "[TaskA] Epoch 22 | train 0.0042/0.9996 | val 0.0052/0.9996\n",
      "[TaskA] Epoch 23 | train 0.0037/0.9997 | val 0.0050/0.9996\n",
      "[TaskA] Epoch 24 | train 0.0029/0.9998 | val 0.0055/0.9996\n",
      "[TaskA] Epoch 25 | train 0.0024/0.9998 | val 0.0030/0.9997\n",
      "[TaskA] Epoch 26 | train 0.0034/0.9998 | val 0.0029/0.9997\n",
      "[TaskA] Epoch 27 | train 0.0025/0.9998 | val 0.0032/0.9997\n",
      "[TaskA] Epoch 28 | train 0.0023/0.9999 | val 0.0029/0.9997\n",
      "[TaskA] Epoch 29 | train 0.0027/0.9998 | val 0.0024/0.9996\n",
      "[TaskA] Epoch 30 | train 0.0019/0.9998 | val 0.0039/0.9995\n",
      "Best checkpoint saved to: fusionnet_taskA_best.pth\n"
     ]
    }
   ],
   "source": [
    "model = FusionNet().to(device)\n",
    "\n",
    "optimizer = torch.optim.AdamW(\n",
    "    model.parameters(),\n",
    "    lr=1e-3,\n",
    "    weight_decay=1e-4\n",
    ")\n",
    "\n",
    "scheduler = torch.optim.lr_scheduler.ReduceLROnPlateau(\n",
    "    optimizer,\n",
    "    mode=\"min\",\n",
    "    factor=0.5,\n",
    "    patience=2\n",
    ")\n",
    "\n",
    "loss_fn = nn.CrossEntropyLoss()\n",
    "scaler = torch.amp.GradScaler(\"cuda\", enabled=torch.cuda.is_available())\n",
    "\n",
    "PATIENCE    = 5\n",
    "CLIP_NORM   = 1.0\n",
    "best_val_loss = float(\"inf\")\n",
    "best_path_A = \"fusionnet_taskA_best.pth\"\n",
    "no_improve  = 0\n",
    "\n",
    "for epoch in range(1, EPOCHS+1):\n",
    "    model.train()\n",
    "    run_loss = 0.0\n",
    "    run_correct = 0\n",
    "    seen = 0\n",
    "\n",
    "    for raw, mel, labels in train_loader_A:\n",
    "        raw, mel, labels = raw.to(device), mel.to(device), labels.to(device)\n",
    "\n",
    "        optimizer.zero_grad(set_to_none=True)\n",
    "\n",
    "        with torch.amp.autocast(\"cuda\", enabled=torch.cuda.is_available()):\n",
    "            out = model(raw, mel)\n",
    "            loss = loss_fn(out, labels)\n",
    "\n",
    "        scaler.scale(loss).backward()\n",
    "        torch.nn.utils.clip_grad_norm_(model.parameters(), CLIP_NORM)\n",
    "        scaler.step(optimizer)\n",
    "        scaler.update()\n",
    "\n",
    "        run_loss    += loss.item() * labels.size(0)\n",
    "        run_correct += (out.argmax(1) == labels).sum().item()\n",
    "        seen        += labels.size(0)\n",
    "\n",
    "    train_loss = run_loss / seen\n",
    "    train_acc  = run_correct / seen\n",
    "\n",
    "    val_loss, val_acc = evaluate(model, val_loader_A, device)\n",
    "    scheduler.step(val_loss)\n",
    "\n",
    "    print(f\"[TaskA] Epoch {epoch:02d} | \"\n",
    "          f\"train {train_loss:.4f}/{train_acc:.4f} | \"\n",
    "          f\"val {val_loss:.4f}/{val_acc:.4f}\")\n",
    "\n",
    "    if val_loss < best_val_loss - 1e-4:\n",
    "        best_val_loss = val_loss\n",
    "        no_improve = 0\n",
    "        torch.save(model.state_dict(), best_path_A)\n",
    "    else:\n",
    "        no_improve += 1\n",
    "        if no_improve >= PATIENCE:\n",
    "            print(\"Early stopping on Task A.\")\n",
    "            break\n",
    "\n",
    "print(\"Best checkpoint saved to:\", best_path_A)\n"
   ]
  },
  {
   "cell_type": "code",
   "execution_count": 9,
   "id": "1fcf17f4",
   "metadata": {
    "execution": {
     "iopub.execute_input": "2025-10-29T18:48:56.000563Z",
     "iopub.status.busy": "2025-10-29T18:48:55.999972Z",
     "iopub.status.idle": "2025-10-29T18:57:43.150942Z",
     "shell.execute_reply": "2025-10-29T18:57:43.149811Z"
    },
    "papermill": {
     "duration": 527.170505,
     "end_time": "2025-10-29T18:57:43.162515",
     "exception": false,
     "start_time": "2025-10-29T18:48:55.992010",
     "status": "completed"
    },
    "tags": []
   },
   "outputs": [
    {
     "name": "stdout",
     "output_type": "stream",
     "text": [
      "[TaskA TEST] loss=0.0030  acc=0.9998\n",
      "Total Correct: 32085\n",
      "Total Misclassified: 8\n",
      "\n",
      "Sample Misclassifications (up to 10):\n",
      "True=REAL | Pred=FAKE | Conf=99.86%\n",
      "True=FAKE | Pred=REAL | Conf=96.80%\n",
      "True=FAKE | Pred=REAL | Conf=98.92%\n",
      "True=REAL | Pred=FAKE | Conf=100.00%\n",
      "True=FAKE | Pred=REAL | Conf=99.52%\n",
      "True=REAL | Pred=FAKE | Conf=100.00%\n",
      "True=FAKE | Pred=REAL | Conf=57.11%\n",
      "True=REAL | Pred=FAKE | Conf=99.91%\n"
     ]
    }
   ],
   "source": [
    "model = FusionNet().to(device)\n",
    "model.load_state_dict(torch.load(\"fusionnet_taskA_best.pth\", map_location=device))\n",
    "model.eval()\n",
    "\n",
    "test_loss_A, test_acc_A = evaluate(model, test_loader_A, device)\n",
    "print(f\"[TaskA TEST] loss={test_loss_A:.4f}  acc={test_acc_A:.4f}\")\n",
    "\n",
    "misclassified = []\n",
    "correct_pred  = []\n",
    "\n",
    "with torch.no_grad():\n",
    "    for raw_batch, mel_batch, labels_batch in test_loader_A:\n",
    "        raw_batch, mel_batch, labels_batch = (\n",
    "            raw_batch.to(device),\n",
    "            mel_batch.to(device),\n",
    "            labels_batch.to(device),\n",
    "        )\n",
    "        outputs = model(raw_batch, mel_batch)\n",
    "        probs = F.softmax(outputs, dim=1)\n",
    "        preds = torch.argmax(probs, dim=1)\n",
    "\n",
    "        for i in range(len(labels_batch)):\n",
    "            true_label = labels_batch[i].item()\n",
    "            pred_label = preds[i].item()\n",
    "            confidence = float(probs[i][pred_label].item())\n",
    "            entry = {\n",
    "                \"true\": \"FAKE\" if true_label == 1 else \"REAL\",\n",
    "                \"pred\": \"FAKE\" if pred_label == 1 else \"REAL\",\n",
    "                \"confidence\": confidence\n",
    "            }\n",
    "            if true_label != pred_label:\n",
    "                misclassified.append(entry)\n",
    "            else:\n",
    "                correct_pred.append(entry)\n",
    "\n",
    "print(f\"Total Correct: {len(correct_pred)}\")\n",
    "print(f\"Total Misclassified: {len(misclassified)}\")\n",
    "\n",
    "print(\"\\nSample Misclassifications (up to 10):\")\n",
    "for item in misclassified[:10]:\n",
    "    print(f\"True={item['true']} | Pred={item['pred']} | Conf={item['confidence']*100:.2f}%\")\n"
   ]
  },
  {
   "cell_type": "code",
   "execution_count": 10,
   "id": "f511ed45",
   "metadata": {
    "execution": {
     "iopub.execute_input": "2025-10-29T18:57:43.181478Z",
     "iopub.status.busy": "2025-10-29T18:57:43.181003Z",
     "iopub.status.idle": "2025-10-29T19:00:18.036746Z",
     "shell.execute_reply": "2025-10-29T19:00:18.035813Z"
    },
    "papermill": {
     "duration": 154.865167,
     "end_time": "2025-10-29T19:00:18.038425",
     "exception": false,
     "start_time": "2025-10-29T18:57:43.173258",
     "status": "completed"
    },
    "tags": []
   },
   "outputs": [
    {
     "name": "stdout",
     "output_type": "stream",
     "text": [
      "AUC = 1.0000\n",
      "EER = 0.0004 at threshold = 0.9986\n"
     ]
    },
    {
     "data": {
      "image/png": "[encoded data removed]",
      "text/plain": [
       "<Figure size 640x480 with 1 Axes>"
      ]
     },
     "metadata": {},
     "output_type": "display_data"
    },
    {
     "name": "stdout",
     "output_type": "stream",
     "text": [
      "Confusion Matrix @ EER threshold [rows: TRUE (REAL,FAKE), cols: PRED (REAL,FAKE)]\n",
      "[[15989     4]\n",
      " [    8 16092]]\n"
     ]
    },
    {
     "data": {
      "image/png": "[encoded data removed]",
      "text/plain": [
       "<Figure size 640x480 with 2 Axes>"
      ]
     },
     "metadata": {},
     "output_type": "display_data"
    }
   ],
   "source": [
    "QUICK_MODE = False\n",
    "MAX_BATCHES = 50  # only used if QUICK_MODE=True\n",
    "\n",
    "def collect_scores_fast(m, loader, device, quick=False, max_batches=50):\n",
    "    m = m.to(device).eval()\n",
    "    ys, ps = [], []\n",
    "    with torch.inference_mode():\n",
    "        for bi, (raw, mel, y) in enumerate(loader):\n",
    "            raw = raw.to(device, non_blocking=True)\n",
    "            mel = mel.to(device, non_blocking=True)\n",
    "            logits = m(raw, mel)\n",
    "            prob_fake = torch.softmax(logits, dim=1)[:, 1]\n",
    "            ys.append(y.cpu().numpy())\n",
    "            ps.append(prob_fake.detach().cpu().numpy())\n",
    "            if quick and (bi + 1) >= max_batches:\n",
    "                break\n",
    "    return np.concatenate(ys), np.concatenate(ps)\n",
    "\n",
    "y_true, y_score = collect_scores_fast(\n",
    "    model, test_loader_A, device, quick=QUICK_MODE, max_batches=MAX_BATCHES\n",
    ")\n",
    "\n",
    "auc = roc_auc_score(y_true, y_score)\n",
    "fpr, tpr, thr_all = roc_curve(y_true, y_score)\n",
    "fnr = 1 - tpr\n",
    "eer_idx = np.nanargmin(np.abs(fpr - fnr))\n",
    "eer = 0.5 * (fpr[eer_idx] + fnr[eer_idx])\n",
    "eer_thr = float(thr_all[eer_idx])\n",
    "\n",
    "print(f\"AUC = {auc:.4f}\")\n",
    "print(f\"EER = {eer:.4f} at threshold = {eer_thr:.4f}\")\n",
    "\n",
    "# Plot ROC\n",
    "plt.figure()\n",
    "plt.plot(fpr, tpr, label=f\"ROC (AUC={auc:.3f})\")\n",
    "plt.plot([0,1],[0,1],'--', label=\"Chance\")\n",
    "plt.xlabel(\"False Positive Rate\")\n",
    "plt.ylabel(\"True Positive Rate\")\n",
    "plt.title(\"ROC Curve (Task A model)\")\n",
    "plt.legend()\n",
    "plt.show()\n",
    "\n",
    "# Confusion Matrix @ EER threshold\n",
    "y_pred = (y_score >= eer_thr).astype(int)\n",
    "cm = confusion_matrix(y_true, y_pred, labels=[0,1])\n",
    "print(\"Confusion Matrix @ EER threshold [rows: TRUE (REAL,FAKE), cols: PRED (REAL,FAKE)]\")\n",
    "print(cm)\n",
    "\n",
    "ConfusionMatrixDisplay.from_predictions(\n",
    "    y_true, y_pred, labels=[0,1], display_labels=[\"REAL\",\"FAKE\"]\n",
    ")\n",
    "plt.title(f\"Confusion Matrix @ thr={eer_thr:.2f} (Task A)\")\n",
    "plt.show()\n"
   ]
  },
  {
   "cell_type": "code",
   "execution_count": 11,
   "id": "bb685d80",
   "metadata": {
    "execution": {
     "iopub.execute_input": "2025-10-29T19:00:18.059490Z",
     "iopub.status.busy": "2025-10-29T19:00:18.059209Z",
     "iopub.status.idle": "2025-10-29T19:37:55.547770Z",
     "shell.execute_reply": "2025-10-29T19:37:55.546582Z"
    },
    "papermill": {
     "duration": 2257.500267,
     "end_time": "2025-10-29T19:37:55.549384",
     "exception": false,
     "start_time": "2025-10-29T19:00:18.049117",
     "status": "completed"
    },
    "tags": []
   },
   "outputs": [
    {
     "name": "stdout",
     "output_type": "stream",
     "text": [
      "{\n",
      "  \"model_params\": 118658,\n",
      "  \"files\": {\n",
      "    \"fp32_path\": \"fusionnet_taskA_fp32.pth\",\n",
      "    \"fp32_mb\": 0.463,\n",
      "    \"int8_path\": \"fusionnet_taskA_int8_linear.pth\",\n",
      "    \"int8_mb\": 0.301\n",
      "  },\n",
      "  \"cpu_benchmark_fp32\": {\n",
      "    \"batches\": 1003,\n",
      "    \"samples\": 32093,\n",
      "    \"total_sec\": 586.107786655426,\n",
      "    \"sec_per_batch\": 0.5843547224879622,\n",
      "    \"ms_per_sample\": 18.262792093460444\n",
      "  },\n",
      "  \"cpu_benchmark_int8\": {\n",
      "    \"batches\": 1003,\n",
      "    \"samples\": 32093,\n",
      "    \"total_sec\": 552.9961898326874,\n",
      "    \"sec_per_batch\": 0.5513421633426594,\n",
      "    \"ms_per_sample\": 17.23105318395561\n",
      "  },\n",
      "  \"metrics_fp32\": {\n",
      "    \"confusion_matrix\": [\n",
      "      [\n",
      "        15989,\n",
      "        4\n",
      "      ],\n",
      "      [\n",
      "        4,\n",
      "        16096\n",
      "      ]\n",
      "    ],\n",
      "    \"roc_auc\": 0.9999685654399265,\n",
      "    \"eer\": 0.0003735019164052246,\n",
      "    \"eer_threshold\": 0.9985610842704773\n",
      "  },\n",
      "  \"metrics_int8\": {\n",
      "    \"confusion_matrix\": [\n",
      "      [\n",
      "        15989,\n",
      "        4\n",
      "      ],\n",
      "      [\n",
      "        3,\n",
      "        16097\n",
      "      ]\n",
      "    ],\n",
      "    \"roc_auc\": 0.999968528544903,\n",
      "    \"eer\": 0.0002182224132996037,\n",
      "    \"eer_threshold\": 0.6635943651199341\n",
      "  }\n",
      "}\n",
      "total 1.4M\r\n",
      "-rw-r--r-- 1 root root 475K Oct 29 18:37 fusionnet_taskA_best.pth\r\n",
      "-rw-r--r-- 1 root root 475K Oct 29 19:00 fusionnet_taskA_fp32.pth\r\n",
      "-rw-r--r-- 1 root root 309K Oct 29 19:19 fusionnet_taskA_int8_linear.pth\r\n",
      "---------- 1 root root 156K Oct 29 19:37 __notebook__.ipynb\r\n",
      "-rw-r--r-- 1 root root 1.1K Oct 29 19:37 taskA_report.json\r\n"
     ]
    }
   ],
   "source": [
    "model.load_state_dict(torch.load(\"fusionnet_taskA_best.pth\", map_location=device))\n",
    "model.eval()\n",
    "\n",
    "report_taskA = post_training_report(model, val_loader_A, test_loader_A)\n",
    "\n",
    "with open(\"taskA_report.json\", \"w\") as f:\n",
    "    json.dump(report_taskA, f, indent=2)\n",
    "\n",
    "!ls -lh /kaggle/working | sed -n '1,200p'\n"
   ]
  },
  {
   "cell_type": "code",
   "execution_count": 12,
   "id": "9ed5a67c",
   "metadata": {
    "execution": {
     "iopub.execute_input": "2025-10-29T19:37:55.569341Z",
     "iopub.status.busy": "2025-10-29T19:37:55.568529Z",
     "iopub.status.idle": "2025-10-29T19:40:31.711884Z",
     "shell.execute_reply": "2025-10-29T19:40:31.711006Z"
    },
    "papermill": {
     "duration": 156.154486,
     "end_time": "2025-10-29T19:40:31.713316",
     "exception": false,
     "start_time": "2025-10-29T19:37:55.558830",
     "status": "completed"
    },
    "tags": []
   },
   "outputs": [
    {
     "name": "stdout",
     "output_type": "stream",
     "text": [
      "[taskA] AUC=1.0000 | EER=0.0004 | thr=0.9986 -> saved roc_taskA.png, cm_taskA.png\n",
      "-rw-r--r-- 1 root root  58K Oct 29 19:40 cm_taskA.png\r\n",
      "-rw-r--r-- 1 root root  47K Oct 29 19:40 roc_taskA.png\r\n"
     ]
    }
   ],
   "source": [
    "def collect_scores_fast(m, loader, device, quick=False, max_batches=999999):\n",
    "    m = m.to(device).eval()\n",
    "    ys, ps = [], []\n",
    "    with torch.inference_mode():\n",
    "        for bi, (raw, mel, y) in enumerate(loader):\n",
    "            raw = raw.to(device, non_blocking=True)\n",
    "            mel = mel.to(device, non_blocking=True)\n",
    "            p = torch.softmax(m(raw, mel), dim=1)[:, 1]\n",
    "            ys.append(y.cpu().numpy()); ps.append(p.detach().cpu().numpy())\n",
    "            if quick and (bi+1) >= max_batches: break\n",
    "    return np.concatenate(ys), np.concatenate(ps)\n",
    "\n",
    "def save_roc_cm_png(ckpt_path, test_loader, tag):\n",
    "    m = FusionNet().to(device)\n",
    "    m.load_state_dict(torch.load(ckpt_path, map_location=device))\n",
    "    m.eval()\n",
    "\n",
    "    y_true, y_score = collect_scores_fast(m, test_loader, device)\n",
    "    auc = roc_auc_score(y_true, y_score)\n",
    "    fpr, tpr, thr_all = roc_curve(y_true, y_score)\n",
    "    fnr = 1 - tpr\n",
    "    idx = np.nanargmin(np.abs(fpr - fnr))\n",
    "    eer = 0.5 * (fpr[idx] + fnr[idx])\n",
    "    thr = float(thr_all[idx])\n",
    "\n",
    "    # ROC PNG\n",
    "    plt.figure()\n",
    "    plt.plot(fpr, tpr, label=f\"AUC={auc:.3f}\")\n",
    "    plt.plot([0,1],[0,1],'--', label=\"Chance\")\n",
    "    plt.xlabel(\"FPR\"); plt.ylabel(\"TPR\"); plt.title(f\"ROC — {tag}\")\n",
    "    plt.legend()\n",
    "    plt.savefig(f\"roc_{tag}.png\", dpi=200, bbox_inches=\"tight\")\n",
    "    plt.close()\n",
    "\n",
    "    # CM PNG\n",
    "    y_pred = (y_score >= thr).astype(int)\n",
    "    cm = confusion_matrix(y_true, y_pred, labels=[0,1])\n",
    "    disp = ConfusionMatrixDisplay(cm, display_labels=[\"REAL\",\"FAKE\"])\n",
    "    disp.plot(values_format=\"d\")\n",
    "    plt.title(f\"Confusion Matrix — {tag} @ thr={thr:.2f}\")\n",
    "    plt.savefig(f\"cm_{tag}.png\", dpi=200, bbox_inches=\"tight\")\n",
    "    plt.close()\n",
    "\n",
    "    print(f\"[{tag}] AUC={auc:.4f} | EER={eer:.4f} | thr={thr:.4f} -> saved roc_{tag}.png, cm_{tag}.png\")\n",
    "\n",
    "save_roc_cm_png(\"fusionnet_taskA_best.pth\", test_loader_A, tag=\"taskA\")\n",
    "\n",
    "!ls -lh /kaggle/working | egrep \"roc_|cm_\"\n"
   ]
  },
  {
   "cell_type": "code",
   "execution_count": 13,
   "id": "12bccdac",
   "metadata": {
    "execution": {
     "iopub.execute_input": "2025-10-29T19:40:31.731502Z",
     "iopub.status.busy": "2025-10-29T19:40:31.731219Z",
     "iopub.status.idle": "2025-10-29T19:40:33.141684Z",
     "shell.execute_reply": "2025-10-29T19:40:33.140567Z"
    },
    "papermill": {
     "duration": 1.421032,
     "end_time": "2025-10-29T19:40:33.143162",
     "exception": false,
     "start_time": "2025-10-29T19:40:31.722130",
     "status": "completed"
    },
    "tags": []
   },
   "outputs": [
    {
     "name": "stdout",
     "output_type": "stream",
     "text": [
      "Exported ONNX -> fusionnet_taskA.onnx | mel=(128,63) raw=16000\n",
      "-rw-r--r-- 1 root root 467K Oct 29 19:40 /kaggle/working/fusionnet_taskA.onnx\r\n"
     ]
    }
   ],
   "source": [
    "def export_onnx_fixed(model, val_loader, out_path=\"fusionnet_taskA.onnx\", raw_len=16000):\n",
    "    model_cpu = model.to(\"cpu\").eval()\n",
    "\n",
    "    # infer mel shape using a real validation batch\n",
    "    try:\n",
    "        _, mel_b, _ = next(iter(val_loader))\n",
    "        _, _, n_mels, t_frames = mel_b.shape\n",
    "        n_mels = int(n_mels)\n",
    "        t_frames = int(t_frames)\n",
    "    except StopIteration:\n",
    "        # fallback default\n",
    "        n_mels, t_frames = 128, 64\n",
    "\n",
    "    dummy_raw = torch.randn(1, 1, raw_len)\n",
    "    dummy_mel = torch.randn(1, 1, n_mels, t_frames)\n",
    "\n",
    "    torch.onnx.export(\n",
    "        model_cpu,\n",
    "        (dummy_raw, dummy_mel),\n",
    "        out_path,\n",
    "        input_names=[\"raw\",\"mel\"],\n",
    "        output_names=[\"logits\"],\n",
    "        opset_version=17,\n",
    "        do_constant_folding=True\n",
    "    )\n",
    "    print(f\"Exported ONNX -> {out_path} | mel=({n_mels},{t_frames}) raw={raw_len}\")\n",
    "\n",
    "\n",
    "model_cpu = FusionNet().to(\"cpu\")\n",
    "model_cpu.load_state_dict(torch.load(\"fusionnet_taskA_best.pth\", map_location=\"cpu\"))\n",
    "export_onnx_fixed(model_cpu, val_loader_A, out_path=\"fusionnet_taskA.onnx\", raw_len=16000)\n",
    "\n",
    "!ls -lh /kaggle/working/fusionnet_taskA.onnx\n"
   ]
  },
  {
   "cell_type": "markdown",
   "id": "5e938772",
   "metadata": {
    "papermill": {
     "duration": 0.008007,
     "end_time": "2025-10-29T19:40:33.160043",
     "exception": false,
     "start_time": "2025-10-29T19:40:33.152036",
     "status": "completed"
    },
    "tags": []
   },
   "source": [
    "# Start TaskB here:"
   ]
  },
  {
   "cell_type": "code",
   "execution_count": 14,
   "id": "c5eb8c78",
   "metadata": {
    "execution": {
     "iopub.execute_input": "2025-10-29T19:40:33.178446Z",
     "iopub.status.busy": "2025-10-29T19:40:33.177630Z",
     "iopub.status.idle": "2025-10-29T19:43:40.359750Z",
     "shell.execute_reply": "2025-10-29T19:43:40.358835Z"
    },
    "papermill": {
     "duration": 187.200825,
     "end_time": "2025-10-29T19:43:40.369037",
     "exception": false,
     "start_time": "2025-10-29T19:40:33.168212",
     "status": "completed"
    },
    "tags": []
   },
   "outputs": [
    {
     "name": "stdout",
     "output_type": "stream",
     "text": [
      "[TaskA Dataset] fake=80500 real=79963 total=160463\n",
      "Task B split sizes: 96277 32093 32093\n"
     ]
    }
   ],
   "source": [
    "# ===== Task B dataset: telephony-style / augmented =====\n",
    "# We reuse the same DeepfakeAudioDatasetTaskA class, but with use_aug=True\n",
    "# so TelephonyAug is applied.\n",
    "\n",
    "USE_AUG_TASKB = True\n",
    "\n",
    "taskB_dataset = DeepfakeAudioDatasetTaskA(\n",
    "    fake_root=FAKE_ROOT,\n",
    "    real_root_main=REAL_MAIN_ROOT,\n",
    "    real_root_wild=REAL_WILD_ROOT,\n",
    "    real_main_cap=REAL_MAIN_CAP,\n",
    "    real_wild_cap=REAL_WILD_CAP,\n",
    "    sample_rate=SAMPLE_RATE,\n",
    "    duration=DURATION_S,\n",
    "    n_mels=N_MELS,\n",
    "    use_aug=USE_AUG_TASKB\n",
    ")\n",
    "\n",
    "# same split procedure we used for Task A\n",
    "indices_B = list(range(len(taskB_dataset)))\n",
    "labels_B  = [taskB_dataset.labels[i] for i in indices_B]\n",
    "\n",
    "from sklearn.model_selection import train_test_split\n",
    "\n",
    "train_idx_B, temp_idx_B = train_test_split(\n",
    "    indices_B,\n",
    "    test_size=0.4,\n",
    "    random_state=SEED,\n",
    "    shuffle=True,\n",
    "    stratify=labels_B\n",
    ")\n",
    "\n",
    "val_idx_B, test_idx_B = train_test_split(\n",
    "    temp_idx_B,\n",
    "    test_size=0.5,\n",
    "    random_state=SEED,\n",
    "    shuffle=True,\n",
    "    stratify=[labels_B[i] for i in temp_idx_B]\n",
    ")\n",
    "\n",
    "from torch.utils.data import Subset, DataLoader\n",
    "\n",
    "train_set_B = Subset(taskB_dataset, train_idx_B)\n",
    "val_set_B   = Subset(taskB_dataset, val_idx_B)\n",
    "test_set_B  = Subset(taskB_dataset, test_idx_B)\n",
    "\n",
    "train_loader_B = DataLoader(train_set_B, batch_size=BATCH_SIZE, shuffle=True, num_workers=2, pin_memory=True)\n",
    "val_loader_B   = DataLoader(val_set_B,   batch_size=BATCH_SIZE, shuffle=False, num_workers=2, pin_memory=True)\n",
    "test_loader_B  = DataLoader(test_set_B,  batch_size=BATCH_SIZE, shuffle=False, num_workers=2, pin_memory=True)\n",
    "\n",
    "print(\"Task B split sizes:\", len(train_set_B), len(val_set_B), len(test_set_B))\n"
   ]
  },
  {
   "cell_type": "code",
   "execution_count": 15,
   "id": "8442b2e1",
   "metadata": {
    "execution": {
     "iopub.execute_input": "2025-10-29T19:43:40.386129Z",
     "iopub.status.busy": "2025-10-29T19:43:40.385882Z",
     "iopub.status.idle": "2025-10-29T19:43:40.414645Z",
     "shell.execute_reply": "2025-10-29T19:43:40.413977Z"
    },
    "papermill": {
     "duration": 0.038746,
     "end_time": "2025-10-29T19:43:40.415833",
     "exception": false,
     "start_time": "2025-10-29T19:43:40.377087",
     "status": "completed"
    },
    "tags": []
   },
   "outputs": [
    {
     "name": "stdout",
     "output_type": "stream",
     "text": [
      "Loaded Task A weights into model_B and snapshotted prev_weights.\n"
     ]
    }
   ],
   "source": [
    "# Load Task A model as the starting point for Task B\n",
    "model_B = FusionNet().to(device)\n",
    "model_B.load_state_dict(torch.load(\"fusionnet_taskA_best.pth\", map_location=device))\n",
    "model_B.train()\n",
    "\n",
    "# Take a snapshot of the original weights for regularization\n",
    "prev_weights = {}\n",
    "for name, p in model_B.named_parameters():\n",
    "    prev_weights[name] = p.detach().clone()\n",
    "\n",
    "print(\"Loaded Task A weights into model_B and snapshotted prev_weights.\")\n"
   ]
  },
  {
   "cell_type": "code",
   "execution_count": 16,
   "id": "994854e0",
   "metadata": {
    "execution": {
     "iopub.execute_input": "2025-10-29T19:43:40.432700Z",
     "iopub.status.busy": "2025-10-29T19:43:40.432454Z",
     "iopub.status.idle": "2025-10-29T19:43:40.436207Z",
     "shell.execute_reply": "2025-10-29T19:43:40.435691Z"
    },
    "papermill": {
     "duration": 0.013286,
     "end_time": "2025-10-29T19:43:40.437258",
     "exception": false,
     "start_time": "2025-10-29T19:43:40.423972",
     "status": "completed"
    },
    "tags": []
   },
   "outputs": [],
   "source": [
    "# Freeze backbone to protect learned audio features\n",
    "for p in model_B.spec_model.parameters():\n",
    "    p.requires_grad = False\n",
    "for p in model_B.raw_model.parameters():\n",
    "    p.requires_grad = False\n",
    "\n",
    "# Classifier stays trainable\n",
    "for p in model_B.classifier.parameters():\n",
    "    p.requires_grad = True\n"
   ]
  },
  {
   "cell_type": "code",
   "execution_count": 17,
   "id": "bb9e948b",
   "metadata": {
    "execution": {
     "iopub.execute_input": "2025-10-29T19:43:40.454199Z",
     "iopub.status.busy": "2025-10-29T19:43:40.453782Z",
     "iopub.status.idle": "2025-10-29T19:43:40.463065Z",
     "shell.execute_reply": "2025-10-29T19:43:40.462517Z"
    },
    "papermill": {
     "duration": 0.018811,
     "end_time": "2025-10-29T19:43:40.464091",
     "exception": false,
     "start_time": "2025-10-29T19:43:40.445280",
     "status": "completed"
    },
    "tags": []
   },
   "outputs": [],
   "source": [
    "def continual_train_taskB(\n",
    "    model,\n",
    "    train_loader_new,\n",
    "    val_loader_old,\n",
    "    prev_weights_dict,\n",
    "    device,\n",
    "    epochs=8,\n",
    "    lr=5e-4,\n",
    "    reg_lambda=1e-3,\n",
    "    clip_norm=1.0,\n",
    "    patience=3,\n",
    "    save_path=\"fusionnet_taskB_best.pth\"\n",
    "):\n",
    "    \"\"\"\n",
    "    train_loader_new: Task B data (telephony augmented)\n",
    "    val_loader_old:   Task A validation loader (clean data!)\n",
    "                      we validate on OLD domain to watch forgetting.\n",
    "    prev_weights_dict: snapshot of Task A weights for stability regularization\n",
    "    \"\"\"\n",
    "\n",
    "    opt = torch.optim.AdamW(\n",
    "        [p for p in model.parameters() if p.requires_grad],\n",
    "        lr=lr,\n",
    "        weight_decay=1e-4\n",
    "    )\n",
    "    sched = torch.optim.lr_scheduler.ReduceLROnPlateau(\n",
    "        opt, mode=\"min\", factor=0.5, patience=1\n",
    "    )\n",
    "    loss_fn = torch.nn.CrossEntropyLoss()\n",
    "\n",
    "    scaler = torch.amp.GradScaler(\"cuda\", enabled=torch.cuda.is_available())\n",
    "\n",
    "    best_val_loss = float(\"inf\")\n",
    "    no_improve = 0\n",
    "\n",
    "    for epoch in range(1, epochs+1):\n",
    "        model.train()\n",
    "        run_loss = 0.0\n",
    "        run_correct = 0\n",
    "        seen = 0\n",
    "\n",
    "        for raw, mel, labels in train_loader_new:\n",
    "            raw, mel, labels = raw.to(device), mel.to(device), labels.to(device)\n",
    "\n",
    "            opt.zero_grad(set_to_none=True)\n",
    "            with torch.amp.autocast(\"cuda\", enabled=torch.cuda.is_available()):\n",
    "                out = model(raw, mel)\n",
    "                base_loss = loss_fn(out, labels)\n",
    "\n",
    "                # regularization term: don't drift too far from Task A weights\n",
    "                reg_loss = 0.0\n",
    "                for (name, p) in model.named_parameters():\n",
    "                    if p.requires_grad and name in prev_weights_dict:\n",
    "                        reg_loss = reg_loss + (p - prev_weights_dict[name].to(device)).pow(2).mean()\n",
    "\n",
    "                loss = base_loss + reg_lambda * reg_loss\n",
    "\n",
    "            scaler.scale(loss).backward()\n",
    "            torch.nn.utils.clip_grad_norm_(model.parameters(), clip_norm)\n",
    "            scaler.step(opt)\n",
    "            scaler.update()\n",
    "\n",
    "            run_loss += loss.item() * labels.size(0)\n",
    "            run_correct += (out.argmax(1) == labels).sum().item()\n",
    "            seen += labels.size(0)\n",
    "\n",
    "        train_loss = run_loss / seen\n",
    "        train_acc  = run_correct / seen\n",
    "\n",
    "        # validate on OLD domain (Task A val set) to measure forgetting\n",
    "        val_loss, val_acc = evaluate(model, val_loader_old, device)\n",
    "\n",
    "        sched.step(val_loss)\n",
    "\n",
    "        print(f\"[TaskB] Epoch {epoch:02d} | train {train_loss:.4f}/{train_acc:.4f} \"\n",
    "              f\"| old_val {val_loss:.4f}/{val_acc:.4f}\")\n",
    "\n",
    "        # early stopping on OLD domain val loss -> we try not to destroy Task A\n",
    "        if val_loss < best_val_loss - 1e-4:\n",
    "            best_val_loss = val_loss\n",
    "            no_improve = 0\n",
    "            torch.save(model.state_dict(), save_path)\n",
    "        else:\n",
    "            no_improve += 1\n",
    "            if no_improve >= patience:\n",
    "                print(\"Early stopping Task B.\")\n",
    "                break\n",
    "\n",
    "    print(\"Best continual checkpoint saved to:\", save_path)\n"
   ]
  },
  {
   "cell_type": "code",
   "execution_count": 18,
   "id": "c9c2cbc5",
   "metadata": {
    "execution": {
     "iopub.execute_input": "2025-10-29T19:43:40.480735Z",
     "iopub.status.busy": "2025-10-29T19:43:40.480495Z",
     "iopub.status.idle": "2025-10-29T21:22:53.117082Z",
     "shell.execute_reply": "2025-10-29T21:22:53.115430Z"
    },
    "papermill": {
     "duration": 5952.662395,
     "end_time": "2025-10-29T21:22:53.134631",
     "exception": false,
     "start_time": "2025-10-29T19:43:40.472236",
     "status": "completed"
    },
    "tags": []
   },
   "outputs": [
    {
     "name": "stdout",
     "output_type": "stream",
     "text": [
      "[TaskB] Epoch 01 | train 1.4273/0.7934 | old_val 0.3669/0.9017\n",
      "[TaskB] Epoch 02 | train 0.3504/0.8395 | old_val 0.1871/0.9322\n",
      "[TaskB] Epoch 03 | train 0.3331/0.8496 | old_val 0.1802/0.9362\n",
      "[TaskB] Epoch 04 | train 0.3260/0.8539 | old_val 0.1554/0.9558\n",
      "[TaskB] Epoch 05 | train 0.3194/0.8575 | old_val 0.1775/0.9536\n",
      "[TaskB] Epoch 06 | train 0.3104/0.8616 | old_val 0.2669/0.9382\n",
      "[TaskB] Epoch 07 | train 0.3038/0.8634 | old_val 0.3832/0.9133\n",
      "Early stopping Task B.\n",
      "Best continual checkpoint saved to: fusionnet_taskB_best.pth\n"
     ]
    }
   ],
   "source": [
    "# Fine-tune model_B on Task B data for continual learning\n",
    "continual_train_taskB(\n",
    "    model=model_B,\n",
    "    train_loader_new=train_loader_B,\n",
    "    val_loader_old=val_loader_A,          # <-- IMPORTANT: validate on Task A val\n",
    "    prev_weights_dict=prev_weights,\n",
    "    device=device,\n",
    "    epochs=8,\n",
    "    lr=5e-4,\n",
    "    reg_lambda=1e-3,\n",
    "    save_path=\"fusionnet_taskB_best.pth\"\n",
    ")\n"
   ]
  },
  {
   "cell_type": "code",
   "execution_count": 19,
   "id": "902c342d",
   "metadata": {
    "execution": {
     "iopub.execute_input": "2025-10-29T21:22:53.163100Z",
     "iopub.status.busy": "2025-10-29T21:22:53.162831Z",
     "iopub.status.idle": "2025-10-29T21:31:28.968198Z",
     "shell.execute_reply": "2025-10-29T21:31:28.967236Z"
    },
    "papermill": {
     "duration": 515.831009,
     "end_time": "2025-10-29T21:31:28.978483",
     "exception": false,
     "start_time": "2025-10-29T21:22:53.147474",
     "status": "completed"
    },
    "tags": []
   },
   "outputs": [
    {
     "name": "stdout",
     "output_type": "stream",
     "text": [
      "[TaskB model on TaskB audio] loss=0.2873 acc=0.8734\n",
      "[TaskB model on TaskA audio] loss=0.1445 acc=0.9589\n"
     ]
    }
   ],
   "source": [
    "# Load best continual model\n",
    "modelB_eval = FusionNet().to(device)\n",
    "modelB_eval.load_state_dict(torch.load(\"fusionnet_taskB_best.pth\", map_location=device))\n",
    "modelB_eval.eval()\n",
    "\n",
    "# 1. How well does it do on NEW domain (telephony)?\n",
    "loss_B_new, acc_B_new = evaluate(modelB_eval, test_loader_B, device)\n",
    "print(f\"[TaskB model on TaskB audio] loss={loss_B_new:.4f} acc={acc_B_new:.4f}\")\n",
    "\n",
    "# 2. How well does it REMEMBER OLD domain (clean)?\n",
    "loss_B_old, acc_B_old = evaluate(modelB_eval, test_loader_A, device)\n",
    "print(f\"[TaskB model on TaskA audio] loss={loss_B_old:.4f} acc={acc_B_old:.4f}\")\n"
   ]
  },
  {
   "cell_type": "code",
   "execution_count": 20,
   "id": "358261ba",
   "metadata": {
    "execution": {
     "iopub.execute_input": "2025-10-29T21:31:28.999783Z",
     "iopub.status.busy": "2025-10-29T21:31:28.999484Z",
     "iopub.status.idle": "2025-10-29T21:35:13.756155Z",
     "shell.execute_reply": "2025-10-29T21:35:13.755082Z"
    },
    "papermill": {
     "duration": 224.769512,
     "end_time": "2025-10-29T21:35:13.757568",
     "exception": false,
     "start_time": "2025-10-29T21:31:28.988056",
     "status": "completed"
    },
    "tags": []
   },
   "outputs": [
    {
     "name": "stdout",
     "output_type": "stream",
     "text": [
      "[taskB] AUC=0.9493 | EER=0.1291 | thr=0.4949\n",
      "Saved roc_taskB.png and cm_taskB.png\n",
      "Confusion matrix:\n",
      " [[13928  2065]\n",
      " [ 2079 14021]]\n",
      "-rw-r--r-- 1 root root  58K Oct 29 19:40 cm_taskA.png\r\n",
      "-rw-r--r-- 1 root root  56K Oct 29 21:35 cm_taskB.png\r\n",
      "-rw-r--r-- 1 root root  47K Oct 29 19:40 roc_taskA.png\r\n",
      "-rw-r--r-- 1 root root  69K Oct 29 21:35 roc_taskB.png\r\n"
     ]
    }
   ],
   "source": [
    "import torch\n",
    "import numpy as np\n",
    "import matplotlib.pyplot as plt\n",
    "from sklearn.metrics import roc_curve, roc_auc_score, confusion_matrix, ConfusionMatrixDisplay\n",
    "\n",
    "# we'll reuse device, FusionNet, test_loader_B from earlier\n",
    "\n",
    "def collect_scores_for_loader(model, loader, device):\n",
    "    model = model.to(device).eval()\n",
    "    ys, ps = [], []\n",
    "    with torch.no_grad():\n",
    "        for raw, mel, y in loader:\n",
    "            raw = raw.to(device, non_blocking=True)\n",
    "            mel = mel.to(device, non_blocking=True)\n",
    "\n",
    "            logits = model(raw, mel)\n",
    "            prob_fake = torch.softmax(logits, dim=1)[:, 1]  # P(class=FAKE)\n",
    "\n",
    "            ys.append(y.cpu().numpy())\n",
    "            ps.append(prob_fake.detach().cpu().numpy())\n",
    "\n",
    "    y_true = np.concatenate(ys)\n",
    "    y_score = np.concatenate(ps)\n",
    "    return y_true, y_score\n",
    "\n",
    "def save_taskB_roc_cm(taskB_ckpt_path, test_loader_new, tag=\"taskB\"):\n",
    "    # 1. load continual model\n",
    "    m = FusionNet().to(device)\n",
    "    m.load_state_dict(torch.load(taskB_ckpt_path, map_location=device))\n",
    "    m.eval()\n",
    "\n",
    "    # 2. collect scores on Task B domain (telephony)\n",
    "    y_true, y_score = collect_scores_for_loader(m, test_loader_new, device)\n",
    "\n",
    "    # 3. metrics\n",
    "    auc = roc_auc_score(y_true, y_score)\n",
    "\n",
    "    fpr, tpr, thr_all = roc_curve(y_true, y_score)\n",
    "    fnr = 1 - tpr\n",
    "    idx = np.nanargmin(np.abs(fpr - fnr))\n",
    "    eer = 0.5 * (fpr[idx] + fnr[idx])\n",
    "    thr = float(thr_all[idx])\n",
    "\n",
    "    print(f\"[{tag}] AUC={auc:.4f} | EER={eer:.4f} | thr={thr:.4f}\")\n",
    "\n",
    "    # 4. ROC plot\n",
    "    plt.figure()\n",
    "    plt.plot(fpr, tpr, label=f\"AUC={auc:.3f}\")\n",
    "    plt.plot([0,1],[0,1],'--', label=\"Chance\")\n",
    "    plt.xlabel(\"False Positive Rate\")\n",
    "    plt.ylabel(\"True Positive Rate\")\n",
    "    plt.title(f\"ROC — {tag} (continual model)\")\n",
    "    plt.legend()\n",
    "    plt.savefig(f\"roc_{tag}.png\", dpi=200, bbox_inches=\"tight\")\n",
    "    plt.close()\n",
    "\n",
    "    # 5. Confusion matrix @ EER threshold\n",
    "    y_pred = (y_score >= thr).astype(int)\n",
    "    cm = confusion_matrix(y_true, y_pred, labels=[0,1])\n",
    "\n",
    "    disp = ConfusionMatrixDisplay(cm, display_labels=[\"REAL\",\"FAKE\"])\n",
    "    disp.plot(values_format=\"d\")\n",
    "    plt.title(f\"Confusion Matrix — {tag} @ thr={thr:.2f}\")\n",
    "    plt.savefig(f\"cm_{tag}.png\", dpi=200, bbox_inches=\"tight\")\n",
    "    plt.close()\n",
    "\n",
    "    print(f\"Saved roc_{tag}.png and cm_{tag}.png\")\n",
    "    print(\"Confusion matrix:\\n\", cm)\n",
    "\n",
    "# run it for Task B\n",
    "save_taskB_roc_cm(\n",
    "    taskB_ckpt_path=\"fusionnet_taskB_best.pth\",\n",
    "    test_loader_new=test_loader_B,\n",
    "    tag=\"taskB\"\n",
    ")\n",
    "\n",
    "# show files\n",
    "!ls -lh /kaggle/working | egrep \"roc_|cm_\"\n"
   ]
  },
  {
   "cell_type": "code",
   "execution_count": 21,
   "id": "b19f1020",
   "metadata": {
    "execution": {
     "iopub.execute_input": "2025-10-29T21:35:13.776346Z",
     "iopub.status.busy": "2025-10-29T21:35:13.775865Z",
     "iopub.status.idle": "2025-10-29T21:35:15.481857Z",
     "shell.execute_reply": "2025-10-29T21:35:15.480837Z"
    },
    "papermill": {
     "duration": 1.71672,
     "end_time": "2025-10-29T21:35:15.483171",
     "exception": false,
     "start_time": "2025-10-29T21:35:13.766451",
     "status": "completed"
    },
    "tags": []
   },
   "outputs": [
    {
     "name": "stdout",
     "output_type": "stream",
     "text": [
      "Exported ONNX -> fusionnet_taskB.onnx | mel=(128,63) raw=16000\n",
      "-rw-r--r-- 1 root root 467K Oct 29 21:35 /kaggle/working/fusionnet_taskB.onnx\r\n"
     ]
    }
   ],
   "source": [
    "import torch\n",
    "import torchaudio\n",
    "\n",
    "def export_taskB_to_onnx(taskB_ckpt_path, val_loader_for_shape, out_path=\"fusionnet_taskB.onnx\", raw_len=16000):\n",
    "    # rebuild model and load weights\n",
    "    model_cpu = FusionNet().to(\"cpu\")\n",
    "    model_cpu.load_state_dict(torch.load(taskB_ckpt_path, map_location=\"cpu\"))\n",
    "    model_cpu.eval()\n",
    "\n",
    "    # infer mel shape using a real batch from Task B val loader (telephony domain)\n",
    "    try:\n",
    "        _, mel_b, _ = next(iter(val_loader_for_shape))\n",
    "        _, _, n_mels, t_frames = mel_b.shape\n",
    "        n_mels = int(n_mels)\n",
    "        t_frames = int(t_frames)\n",
    "    except StopIteration:\n",
    "        # backup in case loader was empty\n",
    "        n_mels, t_frames = 128, 64\n",
    "\n",
    "    # dummy inputs to trace ONNX\n",
    "    dummy_raw = torch.randn(1, 1, raw_len)\n",
    "    dummy_mel = torch.randn(1, 1, n_mels, t_frames)\n",
    "\n",
    "    torch.onnx.export(\n",
    "        model_cpu,\n",
    "        (dummy_raw, dummy_mel),\n",
    "        out_path,\n",
    "        input_names=[\"raw\",\"mel\"],\n",
    "        output_names=[\"logits\"],\n",
    "        opset_version=17,\n",
    "        do_constant_folding=True\n",
    "    )\n",
    "\n",
    "    print(f\"Exported ONNX -> {out_path} | mel=({n_mels},{t_frames}) raw={raw_len}\")\n",
    "\n",
    "# export the Task B model using Task B val loader (so shapes match Task B preprocessing)\n",
    "export_taskB_to_onnx(\n",
    "    taskB_ckpt_path=\"fusionnet_taskB_best.pth\",\n",
    "    val_loader_for_shape=val_loader_B,\n",
    "    out_path=\"fusionnet_taskB.onnx\",\n",
    "    raw_len=16000\n",
    ")\n",
    "\n",
    "!ls -lh /kaggle/working/fusionnet_taskB.onnx\n"
   ]
  },
  {
   "cell_type": "markdown",
   "id": "70e3a117",
   "metadata": {
    "papermill": {
     "duration": 0.008379,
     "end_time": "2025-10-29T21:35:15.500450",
     "exception": false,
     "start_time": "2025-10-29T21:35:15.492071",
     "status": "completed"
    },
    "tags": []
   },
   "source": [
    "# **TEST ON ONNX FILE STARTS#  FROM HERE******# # "
   ]
  },
  {
   "cell_type": "code",
   "execution_count": 22,
   "id": "b0d8ec3f",
   "metadata": {
    "execution": {
     "iopub.execute_input": "2025-10-29T21:35:15.518623Z",
     "iopub.status.busy": "2025-10-29T21:35:15.518371Z",
     "iopub.status.idle": "2025-10-29T21:36:43.531958Z",
     "shell.execute_reply": "2025-10-29T21:36:43.531193Z"
    },
    "papermill": {
     "duration": 88.024271,
     "end_time": "2025-10-29T21:36:43.533341",
     "exception": false,
     "start_time": "2025-10-29T21:35:15.509070",
     "status": "completed"
    },
    "tags": []
   },
   "outputs": [
    {
     "name": "stdout",
     "output_type": "stream",
     "text": [
      "\u001b[2K   \u001b[90m━━━━━━━━━━━━━━━━━━━━━━━━━━━━━━━━━━━━━━━━\u001b[0m \u001b[32m17.4/17.4 MB\u001b[0m \u001b[31m49.5 MB/s\u001b[0m eta \u001b[36m0:00:00\u001b[0m\r\n",
      "\u001b[2K   \u001b[90m━━━━━━━━━━━━━━━━━━━━━━━━━━━━━━━━━━━━━━━━\u001b[0m \u001b[32m363.4/363.4 MB\u001b[0m \u001b[31m4.2 MB/s\u001b[0m eta \u001b[36m0:00:00\u001b[0m\r\n",
      "\u001b[2K   \u001b[90m━━━━━━━━━━━━━━━━━━━━━━━━━━━━━━━━━━━━━━━━\u001b[0m \u001b[32m664.8/664.8 MB\u001b[0m \u001b[31m932.9 kB/s\u001b[0m eta \u001b[36m0:00:00\u001b[0m\r\n",
      "\u001b[2K   \u001b[90m━━━━━━━━━━━━━━━━━━━━━━━━━━━━━━━━━━━━━━━━\u001b[0m \u001b[32m211.5/211.5 MB\u001b[0m \u001b[31m7.0 MB/s\u001b[0m eta \u001b[36m0:00:00\u001b[0m\r\n",
      "\u001b[2K   \u001b[90m━━━━━━━━━━━━━━━━━━━━━━━━━━━━━━━━━━━━━━━━\u001b[0m \u001b[32m56.3/56.3 MB\u001b[0m \u001b[31m29.8 MB/s\u001b[0m eta \u001b[36m0:00:00\u001b[0m\r\n",
      "\u001b[2K   \u001b[90m━━━━━━━━━━━━━━━━━━━━━━━━━━━━━━━━━━━━━━━━\u001b[0m \u001b[32m127.9/127.9 MB\u001b[0m \u001b[31m13.6 MB/s\u001b[0m eta \u001b[36m0:00:00\u001b[0m\r\n",
      "\u001b[2K   \u001b[90m━━━━━━━━━━━━━━━━━━━━━━━━━━━━━━━━━━━━━━━━\u001b[0m \u001b[32m207.5/207.5 MB\u001b[0m \u001b[31m8.3 MB/s\u001b[0m eta \u001b[36m0:00:00\u001b[0m\r\n",
      "\u001b[2K   \u001b[90m━━━━━━━━━━━━━━━━━━━━━━━━━━━━━━━━━━━━━━━━\u001b[0m \u001b[32m21.1/21.1 MB\u001b[0m \u001b[31m79.0 MB/s\u001b[0m eta \u001b[36m0:00:00\u001b[0m\r\n",
      "\u001b[2K   \u001b[90m━━━━━━━━━━━━━━━━━━━━━━━━━━━━━━━━━━━━━━━━\u001b[0m \u001b[32m46.0/46.0 kB\u001b[0m \u001b[31m2.8 MB/s\u001b[0m eta \u001b[36m0:00:00\u001b[0m\r\n",
      "\u001b[2K   \u001b[90m━━━━━━━━━━━━━━━━━━━━━━━━━━━━━━━━━━━━━━━━\u001b[0m \u001b[32m86.8/86.8 kB\u001b[0m \u001b[31m6.5 MB/s\u001b[0m eta \u001b[36m0:00:00\u001b[0m\r\n",
      "\u001b[?25h"
     ]
    }
   ],
   "source": [
    "!pip -q install onnxruntime scikit-learn torchaudio\n",
    "\n",
    "import os, csv, math, json, time, pathlib, random\n",
    "from typing import List, Tuple, Optional\n",
    "import numpy as np\n",
    "import matplotlib.pyplot as plt\n",
    "\n",
    "import torch\n",
    "import torchaudio\n",
    "import onnxruntime as ort\n",
    "\n",
    "from sklearn.metrics import roc_auc_score, roc_curve, confusion_matrix, ConfusionMatrixDisplay\n"
   ]
  },
  {
   "cell_type": "code",
   "execution_count": 23,
   "id": "0255c31e",
   "metadata": {
    "execution": {
     "iopub.execute_input": "2025-10-29T21:36:43.601335Z",
     "iopub.status.busy": "2025-10-29T21:36:43.601027Z",
     "iopub.status.idle": "2025-10-29T21:36:43.605260Z",
     "shell.execute_reply": "2025-10-29T21:36:43.604531Z"
    },
    "papermill": {
     "duration": 0.039121,
     "end_time": "2025-10-29T21:36:43.606412",
     "exception": false,
     "start_time": "2025-10-29T21:36:43.567291",
     "status": "completed"
    },
    "tags": []
   },
   "outputs": [],
   "source": [
    "ONNX_PATH = \"/kaggle/input/fusionnet-taskb-onnx/onnx/default/1/fusionnet_taskB.onnx\"\n",
    "DATA_ROOT = \"/kaggle/input/the-fake-or-real-dataset/for-norm/for-norm/testing\"\n",
    "MANIFEST_CSV = \"\"  "
   ]
  },
  {
   "cell_type": "code",
   "execution_count": 24,
   "id": "e7fa468a",
   "metadata": {
    "execution": {
     "iopub.execute_input": "2025-10-29T21:36:43.675698Z",
     "iopub.status.busy": "2025-10-29T21:36:43.674773Z",
     "iopub.status.idle": "2025-10-29T21:36:44.149642Z",
     "shell.execute_reply": "2025-10-29T21:36:44.148467Z"
    },
    "papermill": {
     "duration": 0.510275,
     "end_time": "2025-10-29T21:36:44.151253",
     "exception": false,
     "start_time": "2025-10-29T21:36:43.640978",
     "status": "completed"
    },
    "tags": []
   },
   "outputs": [
    {
     "name": "stdout",
     "output_type": "stream",
     "text": [
      "ONNX ok: /kaggle/input/fusionnet-taskb-onnx/onnx/default/1/fusionnet_taskB.onnx\n",
      "AUDIO root: /kaggle/input/the-fake-or-real-dataset/for-norm/for-norm/testing\n",
      "FAKE count: 2370\n",
      "REAL count: 2264\n",
      "real example: /kaggle/input/the-fake-or-real-dataset/for-norm/for-norm/testing/real/file508.wav_16k.wav_norm.wav_mono.wav_silence.wav\n",
      "fake example: /kaggle/input/the-fake-or-real-dataset/for-norm/for-norm/testing/fake/file508.wav_16k.wav_norm.wav_mono.wav_silence.wav\n"
     ]
    }
   ],
   "source": [
    "import os, glob, pathlib\n",
    "assert os.path.exists(ONNX_PATH), f\"ONNX not found: {ONNX_PATH}\"\n",
    "assert os.path.isdir(DATA_ROOT), f\"DATA_ROOT missing: {DATA_ROOT}\"\n",
    "\n",
    "print(\"ONNX ok:\", ONNX_PATH)\n",
    "print(\"AUDIO root:\", DATA_ROOT)\n",
    "print(\"FAKE count:\", len(glob.glob(os.path.join(DATA_ROOT, \"fake\", \"*\"))))\n",
    "print(\"REAL count:\", len(glob.glob(os.path.join(DATA_ROOT, \"real\", \"*\"))))\n",
    "\n",
    "# (Optional) show one example from each class\n",
    "for sub in [\"real\",\"fake\"]:\n",
    "    some = glob.glob(os.path.join(DATA_ROOT, sub, \"*\"))[:1]\n",
    "    print(sub, \"example:\", some[0] if some else \"—\")\n"
   ]
  },
  {
   "cell_type": "code",
   "execution_count": 25,
   "id": "c7d246ef",
   "metadata": {
    "execution": {
     "iopub.execute_input": "2025-10-29T21:36:44.229588Z",
     "iopub.status.busy": "2025-10-29T21:36:44.228960Z",
     "iopub.status.idle": "2025-10-29T21:36:44.245703Z",
     "shell.execute_reply": "2025-10-29T21:36:44.244847Z"
    },
    "papermill": {
     "duration": 0.057349,
     "end_time": "2025-10-29T21:36:44.247128",
     "exception": false,
     "start_time": "2025-10-29T21:36:44.189779",
     "status": "completed"
    },
    "tags": []
   },
   "outputs": [],
   "source": [
    "SAMPLE_RATE = 16000\n",
    "DURATION_S  = 1.0\n",
    "N_MELS      = 128\n",
    "N_FFT       = 1024\n",
    "HOP         = 256\n",
    "#BATCH_SIZE  = max\n",
    "SEED = 42\n",
    "\n",
    "random.seed(SEED)\n",
    "np.random.seed(SEED)\n",
    "torch.manual_seed(SEED)\n",
    "\n",
    "MAX_LEN = int(SAMPLE_RATE * DURATION_S)\n",
    "\n",
    "melspec = torchaudio.transforms.MelSpectrogram(\n",
    "    sample_rate=SAMPLE_RATE,\n",
    "    n_mels=N_MELS,\n",
    "    n_fft=N_FFT,\n",
    "    hop_length=HOP,\n",
    "    power=2.0,\n",
    ")\n",
    "to_db = torchaudio.transforms.AmplitudeToDB(stype=\"power\")\n",
    "\n",
    "def load_resample_mono_crop1s(path: str) -> torch.Tensor:\n",
    "    wav, sr = torchaudio.load(path)  # (C, N)\n",
    "    wav = wav.mean(dim=0)\n",
    "    if sr != SAMPLE_RATE:\n",
    "        wav = torchaudio.functional.resample(wav, sr, SAMPLE_RATE)\n",
    "    if wav.shape[0] < MAX_LEN:\n",
    "        wav = torch.nn.functional.pad(wav, (0, MAX_LEN - wav.shape[0]))\n",
    "    else:\n",
    "        wav = wav[:MAX_LEN]\n",
    "    return wav\n",
    "\n",
    "def wav_to_features_1s(wav_1d: torch.Tensor):\n",
    "    raw = wav_1d.unsqueeze(0).unsqueeze(0).float()      # (1,1,L)\n",
    "    mel = to_db(melspec(raw)).float()                   # (1,1,N_MELS,T)\n",
    "    return raw, mel\n",
    "\n",
    "def softmax_np(z):\n",
    "    z = z - np.max(z, axis=1, keepdims=True)\n",
    "    e = np.exp(z)\n",
    "    return e / (np.sum(e, axis=1, keepdims=True) + 1e-12)\n"
   ]
  },
  {
   "cell_type": "code",
   "execution_count": 26,
   "id": "c01caa99",
   "metadata": {
    "execution": {
     "iopub.execute_input": "2025-10-29T21:36:44.320201Z",
     "iopub.status.busy": "2025-10-29T21:36:44.320007Z",
     "iopub.status.idle": "2025-10-29T21:36:50.861079Z",
     "shell.execute_reply": "2025-10-29T21:36:50.859910Z"
    },
    "papermill": {
     "duration": 6.57653,
     "end_time": "2025-10-29T21:36:50.862421",
     "exception": false,
     "start_time": "2025-10-29T21:36:44.285891",
     "status": "completed"
    },
    "tags": []
   },
   "outputs": [
    {
     "name": "stdout",
     "output_type": "stream",
     "text": [
      "[External Data] files=4634 | labels=yes\n"
     ]
    }
   ],
   "source": [
    "def find_audio_files(root: str, exts=(\".wav\", \".flac\", \".mp3\")) -> List[str]:\n",
    "    out = []\n",
    "    for r, _, fs in os.walk(root):\n",
    "        for f in fs:\n",
    "            if f.lower().endswith(exts):\n",
    "                out.append(os.path.join(r, f))\n",
    "    return out\n",
    "\n",
    "def load_manifest(csv_path: str) -> Tuple[List[str], Optional[List[int]]]:\n",
    "    paths, labels = [], []\n",
    "    with open(csv_path, newline=\"\", encoding=\"utf-8\") as f:\n",
    "        reader = csv.DictReader(f)\n",
    "        for row in reader:\n",
    "            p = row[\"path\"]\n",
    "            lbl = row.get(\"label\", \"\")\n",
    "            paths.append(p)\n",
    "            if lbl == \"\":\n",
    "                labels = None\n",
    "            else:\n",
    "                labels.append(int(lbl))\n",
    "    if labels is None or len(labels) == 0:\n",
    "        labels = None\n",
    "    return paths, labels\n",
    "\n",
    "def load_from_folder(root: str) -> Tuple[List[str], Optional[List[int]]]:\n",
    "    all_files = find_audio_files(root)\n",
    "    if not all_files:\n",
    "        return [], None\n",
    "\n",
    "    paths, labels = [], []\n",
    "    has_any_label = False\n",
    "    for p in all_files:\n",
    "        parent = pathlib.Path(p).parent.name.lower()\n",
    "        if \"real\" in parent:\n",
    "            paths.append(p); labels.append(0); has_any_label = True\n",
    "        elif \"fake\" in parent:\n",
    "            paths.append(p); labels.append(1); has_any_label = True\n",
    "        else:\n",
    "            paths.append(p); labels.append(None)\n",
    "\n",
    "    if not has_any_label:\n",
    "        return paths, None\n",
    "    else:\n",
    "        if any(l is None for l in labels):\n",
    "            return paths, None\n",
    "        return paths, labels\n",
    "\n",
    "if MANIFEST_CSV:\n",
    "    ext_paths, ext_labels = load_manifest(MANIFEST_CSV)\n",
    "else:\n",
    "    ext_paths, ext_labels = load_from_folder(DATA_ROOT) if DATA_ROOT else ([], None)\n",
    "\n",
    "print(f\"[External Data] files={len(ext_paths)} | labels={'yes' if ext_labels is not None else 'no'}\")\n",
    "assert len(ext_paths) > 0, \"No external files found. Set DATA_ROOT or MANIFEST_CSV correctly.\"\n",
    "\n"
   ]
  },
  {
   "cell_type": "code",
   "execution_count": 27,
   "id": "611c18df",
   "metadata": {
    "execution": {
     "iopub.execute_input": "2025-10-29T21:36:50.928177Z",
     "iopub.status.busy": "2025-10-29T21:36:50.927924Z",
     "iopub.status.idle": "2025-10-29T21:36:50.937512Z",
     "shell.execute_reply": "2025-10-29T21:36:50.936789Z"
    },
    "papermill": {
     "duration": 0.043553,
     "end_time": "2025-10-29T21:36:50.938740",
     "exception": false,
     "start_time": "2025-10-29T21:36:50.895187",
     "status": "completed"
    },
    "tags": []
   },
   "outputs": [
    {
     "name": "stdout",
     "output_type": "stream",
     "text": [
      "Total files discovered: 4634\n",
      "Labeled files: 4634/4634\n"
     ]
    }
   ],
   "source": [
    "import os, pathlib, numpy as np\n",
    "\n",
    "print(\"Total files discovered:\", len(ext_paths))\n",
    "\n",
    "def infer_label_from_path(p: str):\n",
    "    low = p.lower().replace(\"\\\\\", \"/\")\n",
    "    # Look anywhere in the path, not just parent folder\n",
    "    if \"/real/\" in low or low.split(\"/\")[-2].startswith(\"real\"):\n",
    "        return 0\n",
    "    if \"/fake/\" in low or low.split(\"/\")[-2].startswith(\"fake\"):\n",
    "        return 1\n",
    "    return None\n",
    "\n",
    "ext_labels_aligned = [infer_label_from_path(p) for p in ext_paths]\n",
    "num_labeled = sum(l is not None for l in ext_labels_aligned)\n",
    "print(f\"Labeled files: {num_labeled}/{len(ext_paths)}\")\n",
    "\n",
    "if num_labeled == len(ext_paths):\n",
    "    have_lbls = True\n",
    "    labels_np = np.array(ext_labels_aligned, dtype=np.int64)\n",
    "else:\n",
    "    have_lbls = False\n",
    "    labels_np = None\n",
    "    print(\"Mixed or missing labels detected — proceeding in UNLABELED mode (no ROC/CM).\")"
   ]
  },
  {
   "cell_type": "code",
   "execution_count": 28,
   "id": "b3155d83",
   "metadata": {
    "execution": {
     "iopub.execute_input": "2025-10-29T21:36:51.003487Z",
     "iopub.status.busy": "2025-10-29T21:36:51.003266Z",
     "iopub.status.idle": "2025-10-29T21:38:22.650006Z",
     "shell.execute_reply": "2025-10-29T21:38:22.649233Z"
    },
    "papermill": {
     "duration": 91.680747,
     "end_time": "2025-10-29T21:38:22.651245",
     "exception": false,
     "start_time": "2025-10-29T21:36:50.970498",
     "status": "completed"
    },
    "tags": []
   },
   "outputs": [
    {
     "name": "stdout",
     "output_type": "stream",
     "text": [
      "Input meta: {'raw': [1, 1, 16000], 'mel': [1, 1, 128, 63]}\n",
      "[ONNX External] Scored 4634 samples in 90.66s (19.56 ms/sample)\n",
      "Saved: predictions_TaskBTestedOnONNXForRData.csv\n",
      "AUC = 0.1923\n",
      "EER = 0.7410 @ thr=0.1200\n"
     ]
    },
    {
     "data": {
      "image/png": "[encoded data removed]",
      "text/plain": [
       "<Figure size 640x480 with 1 Axes>"
      ]
     },
     "metadata": {},
     "output_type": "display_data"
    },
    {
     "data": {
      "image/png": "[encoded data removed]",
      "text/plain": [
       "<Figure size 640x480 with 2 Axes>"
      ]
     },
     "metadata": {},
     "output_type": "display_data"
    },
    {
     "name": "stdout",
     "output_type": "stream",
     "text": [
      "-rw-r--r-- 1 root root  309 Oct 29 21:38 TaskBTestedOnONNXForRData_report.json\r\n"
     ]
    }
   ],
   "source": [
    "assert os.path.exists(ONNX_PATH), f\"ONNX not found at {ONNX_PATH}\"\n",
    "so = ort.SessionOptions()\n",
    "so.intra_op_num_threads = 1\n",
    "so.inter_op_num_threads = 1\n",
    "sess = ort.InferenceSession(ONNX_PATH, sess_options=so, providers=[\"CPUExecutionProvider\"])\n",
    "\n",
    "RAW_NAME = \"raw\"; MEL_NAME = \"mel\"\n",
    "inp_meta = {i.name: i.shape for i in sess.get_inputs()}\n",
    "print(\"Input meta:\", inp_meta)\n",
    "\n",
    "def run_onnx_single(raw_np_1, mel_np_1):\n",
    "    return sess.run(None, {RAW_NAME: raw_np_1.astype(\"float32\"),\n",
    "                           MEL_NAME: mel_np_1.astype(\"float32\")})[0]  # (1,2)\n",
    "\n",
    "scores = np.zeros(len(ext_paths), dtype=np.float32)  # P(fake)\n",
    "preds  = np.zeros(len(ext_paths), dtype=np.int64)\n",
    "\n",
    "n = 0\n",
    "t0 = time.time()\n",
    "\n",
    "for i, pth in enumerate(ext_paths):\n",
    "    try:\n",
    "        wav = load_resample_mono_crop1s(pth)\n",
    "        raw, mel = wav_to_features_1s(wav)                 \n",
    "        logits = run_onnx_single(raw.numpy(), mel.numpy()) \n",
    "        z = logits - logits.max(axis=1, keepdims=True)\n",
    "        prob_fake = (np.exp(z) / (np.exp(z).sum(axis=1, keepdims=True)+1e-12))[0,1]\n",
    "        scores[i] = prob_fake\n",
    "        preds[i]  = int(prob_fake >= 0.5)\n",
    "        n += 1\n",
    "    except Exception:\n",
    "        pass\n",
    "\n",
    "dt = time.time() - t0\n",
    "print(f\"[ONNX External] Scored {n} samples in {dt:.2f}s ({1000.0*dt/max(1,n):.2f} ms/sample)\")\n",
    "\n",
    "# Save predictions CSV\n",
    "out_rows = [[\"path\", \"p_fake\", \"pred\", \"label\"]]\n",
    "for i, pth in enumerate(ext_paths):\n",
    "    lbl = \"\" if not have_lbls else int(labels_np[i])\n",
    "    out_rows.append([pth, float(scores[i]), int(preds[i]), lbl])\n",
    "\n",
    "with open(\"predictions_TaskBTestedOnONNX_ForRData.csv\", \"w\", newline=\"\", encoding=\"utf-8\") as f:\n",
    "    writer = csv.writer(f)\n",
    "    writer.writerows(out_rows)\n",
    "\n",
    "print(\"Saved: predictions_TaskBTestedOnONNXForRData.csv\")\n",
    "\n",
    "if have_lbls:\n",
    "    # ROC-AUC / EER\n",
    "    try:\n",
    "        auc = roc_auc_score(labels_np, scores)\n",
    "    except ValueError:\n",
    "        auc = float(\"nan\")\n",
    "    fpr, tpr, thr = roc_curve(labels_np, scores)\n",
    "    fnr = 1 - tpr\n",
    "    idx = np.nanargmin(np.abs(fpr - fnr))\n",
    "    eer = 0.5 * (fpr[idx] + fnr[idx])\n",
    "    eer_thr = float(thr[idx])\n",
    "    print(f\"AUC = {auc:.4f}\")\n",
    "    print(f\"EER = {eer:.4f} @ thr={eer_thr:.4f}\")\n",
    "\n",
    "    # ROC\n",
    "    plt.figure()\n",
    "    plt.plot(fpr, tpr, label=f\"AUC={auc:.3f}\")\n",
    "    plt.plot([0,1],[0,1],\"--\", label=\"Chance\")\n",
    "    plt.xlabel(\"False Positive Rate\")\n",
    "    plt.ylabel(\"True Positive Rate\")\n",
    "    plt.title(\"ROC — TaskB tested on ONNX\")\n",
    "    plt.legend()\n",
    "    plt.savefig(\"roc_TaskB tested on ONNXForRData.png\", dpi=200, bbox_inches=\"tight\")\n",
    "    plt.show()\n",
    "\n",
    "    # Confusion matrix at EER threshold\n",
    "    y_pred_eer = (scores >= eer_thr).astype(int)\n",
    "    cm = confusion_matrix(labels_np, y_pred_eer, labels=[0,1])\n",
    "\n",
    "    disp = ConfusionMatrixDisplay(cm, display_labels=[\"REAL\",\"FAKE\"])\n",
    "    disp.plot(values_format=\"d\")\n",
    "    plt.title(f\"Confusion Matrix — TaskA tested on ONNX ForRData @ thr={eer_thr:.2f}\")\n",
    "    plt.savefig(\"cm_TaskB tested on ONNXForRData.png\", dpi=200, bbox_inches=\"tight\")\n",
    "    plt.show()\n",
    "\n",
    "    report = {\n",
    "        \"onnx_path\": ONNX_PATH,\n",
    "        \"num_samples\": int(len(ext_paths)),\n",
    "        \"auc\": float(auc),\n",
    "        \"eer\": float(eer),\n",
    "        \"eer_threshold\": float(eer_thr),\n",
    "        \"confusion_matrix\": cm.tolist()\n",
    "    }\n",
    "    with open(\"TaskBTestedOnONNXForRData_report.json\", \"w\") as f:\n",
    "        json.dump(report, f, indent=2)\n",
    "\n",
    "    !ls -lh | egrep \"predictions_TaskBTestedOnONNXForRData|roc_TaskBTestedOnONNXForRData|cm_TaskBTestedOnONNXForRData|TaskBTestedOnONNXForRData_report\"\n",
    "else:\n",
    "    print(\"No labels detected — skipped ROC/CM. Only predictions_external.csv was created.\")\n",
    "    !ls -lh predictions_external.csv"
   ]
  },
  {
   "cell_type": "code",
   "execution_count": 29,
   "id": "9a373716",
   "metadata": {
    "execution": {
     "iopub.execute_input": "2025-10-29T21:38:22.720578Z",
     "iopub.status.busy": "2025-10-29T21:38:22.719919Z",
     "iopub.status.idle": "2025-10-29T21:38:22.882726Z",
     "shell.execute_reply": "2025-10-29T21:38:22.880877Z"
    },
    "jupyter": {
     "source_hidden": true
    },
    "papermill": {
     "duration": 0.199241,
     "end_time": "2025-10-29T21:38:22.885013",
     "exception": false,
     "start_time": "2025-10-29T21:38:22.685772",
     "status": "completed"
    },
    "tags": []
   },
   "outputs": [],
   "source": [
    "!rm -f \"cm_TaskB tested on ONNX.png\" \\\n",
    "      cm_external.png \\\n",
    "      external_report.json \\\n",
    "      predictions_external.csv \\\n",
    "      \"roc_TaskB tested on ONNX.png\" \\\n",
    "      roc_external.png"
   ]
  }
 ],
 "metadata": {
  "kaggle": {
   "accelerator": "gpu",
   "dataSources": [
    {
     "datasetId": 3579787,
     "sourceId": 6358196,
     "sourceType": "datasetVersion"
    },
    {
     "datasetId": 4555568,
     "sourceId": 8130934,
     "sourceType": "datasetVersion"
    },
    {
     "datasetId": 4836275,
     "sourceId": 8171572,
     "sourceType": "datasetVersion"
    },
    {
     "datasetId": 5127760,
     "sourceId": 8575334,
     "sourceType": "datasetVersion"
    },
    {
     "datasetId": 8585290,
     "sourceId": 13521169,
     "sourceType": "datasetVersion"
    },
    {
     "modelId": 462338,
     "modelInstanceId": 445866,
     "sourceId": 595534,
     "sourceType": "modelInstanceVersion"
    },
    {
     "modelId": 462339,
     "modelInstanceId": 445867,
     "sourceId": 595535,
     "sourceType": "modelInstanceVersion"
    },
    {
     "isSourceIdPinned": true,
     "modelId": 483995,
     "modelInstanceId": 468166,
     "sourceId": 622369,
     "sourceType": "modelInstanceVersion"
    },
    {
     "isSourceIdPinned": true,
     "modelId": 484526,
     "modelInstanceId": 468676,
     "sourceId": 622973,
     "sourceType": "modelInstanceVersion"
    },
    {
     "isSourceIdPinned": true,
     "modelId": 484527,
     "modelInstanceId": 468677,
     "sourceId": 622974,
     "sourceType": "modelInstanceVersion"
    }
   ],
   "dockerImageVersionId": 31040,
   "isGpuEnabled": true,
   "isInternetEnabled": true,
   "language": "python",
   "sourceType": "notebook"
  },
  "kernelspec": {
   "display_name": "Python 3",
   "language": "python",
   "name": "python3"
  },
  "language_info": {
   "codemirror_mode": {
    "name": "ipython",
    "version": 3
   },
   "file_extension": ".py",
   "mimetype": "text/x-python",
   "name": "python",
   "nbconvert_exporter": "python",
   "pygments_lexer": "ipython3",
   "version": "3.11.11"
  },
  "papermill": {
   "default_parameters": {},
   "duration": 35039.791418,
   "end_time": "2025-10-29T21:38:26.439124",
   "environment_variables": {},
   "exception": null,
   "input_path": "__notebook__.ipynb",
   "output_path": "__notebook__.ipynb",
   "parameters": {},
   "start_time": "2025-10-29T11:54:26.647706",
   "version": "2.6.0"
  }
 },
 "nbformat": 4,
 "nbformat_minor": 5
}
